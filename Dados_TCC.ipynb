{
  "nbformat": 4,
  "nbformat_minor": 0,
  "metadata": {
    "colab": {
      "name": "Dados_TCC.ipynb",
      "provenance": [],
      "collapsed_sections": [],
      "toc_visible": true
    },
    "kernelspec": {
      "name": "python3",
      "display_name": "Python 3"
    }
  },
  "cells": [
    {
      "cell_type": "markdown",
      "metadata": {
        "id": "Is6JIDI1uf2p",
        "colab_type": "text"
      },
      "source": [
        "# Importando Bibliotecas"
      ]
    },
    {
      "cell_type": "code",
      "metadata": {
        "id": "ADVFt2YsULqK",
        "colab_type": "code",
        "colab": {}
      },
      "source": [
        "import pandas as pd\n",
        "import seaborn as sns\n",
        "import matplotlib.pyplot as plt \n",
        "import numpy as np\n",
        "from statsmodels.stats.weightstats import DescrStatsW\n",
        "from scipy.stats import norm\n",
        "from PIL import Image\n",
        "from scipy.stats import normaltest\n",
        "from scipy.stats import wilcoxon"
      ],
      "execution_count": null,
      "outputs": []
    },
    {
      "cell_type": "code",
      "metadata": {
        "id": "DhXoiFjuaiOH",
        "colab_type": "code",
        "colab": {}
      },
      "source": [
        "dados_thingspeak = pd.read_csv('dados_thingspeak.csv')\n",
        "dados_metar = pd.read_csv('dados_metar.csv', sep=\";\")"
      ],
      "execution_count": null,
      "outputs": []
    },
    {
      "cell_type": "markdown",
      "metadata": {
        "id": "kSg90IklzMRX",
        "colab_type": "text"
      },
      "source": [
        "# Ajustando dataset do Metar\n",
        "\n",
        "*   Overview dos dados\n",
        "*   Casting para tipos de dados corretos\n",
        "*   Arredondando números em ponto flutuante\n",
        "\n",
        "\n",
        "\n",
        "\n"
      ]
    },
    {
      "cell_type": "code",
      "metadata": {
        "id": "Rs-ficiMwewg",
        "colab_type": "code",
        "colab": {
          "base_uri": "https://localhost:8080/",
          "height": 204
        },
        "outputId": "4c08e1af-5608-4c8b-ce17-048438e1c6f7"
      },
      "source": [
        "dados_metar.head()"
      ],
      "execution_count": null,
      "outputs": [
        {
          "output_type": "execute_result",
          "data": {
            "text/html": [
              "<div>\n",
              "<style scoped>\n",
              "    .dataframe tbody tr th:only-of-type {\n",
              "        vertical-align: middle;\n",
              "    }\n",
              "\n",
              "    .dataframe tbody tr th {\n",
              "        vertical-align: top;\n",
              "    }\n",
              "\n",
              "    .dataframe thead th {\n",
              "        text-align: right;\n",
              "    }\n",
              "</style>\n",
              "<table border=\"1\" class=\"dataframe\">\n",
              "  <thead>\n",
              "    <tr style=\"text-align: right;\">\n",
              "      <th></th>\n",
              "      <th>Data_Hora</th>\n",
              "      <th>Temp</th>\n",
              "      <th>Pressão</th>\n",
              "      <th>Umidade</th>\n",
              "      <th>Dir Vento</th>\n",
              "      <th>Vel Vento</th>\n",
              "    </tr>\n",
              "  </thead>\n",
              "  <tbody>\n",
              "    <tr>\n",
              "      <th>0</th>\n",
              "      <td>09/07/2020 13:00</td>\n",
              "      <td>30</td>\n",
              "      <td>1014</td>\n",
              "      <td>69.98</td>\n",
              "      <td>80</td>\n",
              "      <td>12</td>\n",
              "    </tr>\n",
              "    <tr>\n",
              "      <th>1</th>\n",
              "      <td>09/07/2020 14:00</td>\n",
              "      <td>30</td>\n",
              "      <td>1014</td>\n",
              "      <td>69.98</td>\n",
              "      <td>90</td>\n",
              "      <td>13</td>\n",
              "    </tr>\n",
              "    <tr>\n",
              "      <th>2</th>\n",
              "      <td>09/07/2020 15:00</td>\n",
              "      <td>30</td>\n",
              "      <td>1014</td>\n",
              "      <td>78.82</td>\n",
              "      <td>70</td>\n",
              "      <td>9</td>\n",
              "    </tr>\n",
              "    <tr>\n",
              "      <th>3</th>\n",
              "      <td>09/07/2020 16:00</td>\n",
              "      <td>30</td>\n",
              "      <td>1014</td>\n",
              "      <td>74.19</td>\n",
              "      <td>60</td>\n",
              "      <td>7</td>\n",
              "    </tr>\n",
              "    <tr>\n",
              "      <th>4</th>\n",
              "      <td>09/07/2020 17:00</td>\n",
              "      <td>30</td>\n",
              "      <td>1014</td>\n",
              "      <td>74.19</td>\n",
              "      <td>80</td>\n",
              "      <td>9</td>\n",
              "    </tr>\n",
              "  </tbody>\n",
              "</table>\n",
              "</div>"
            ],
            "text/plain": [
              "          Data_Hora  Temp  Pressão  Umidade  Dir Vento  Vel Vento\n",
              "0  09/07/2020 13:00    30     1014    69.98         80         12\n",
              "1  09/07/2020 14:00    30     1014    69.98         90         13\n",
              "2  09/07/2020 15:00    30     1014    78.82         70          9\n",
              "3  09/07/2020 16:00    30     1014    74.19         60          7\n",
              "4  09/07/2020 17:00    30     1014    74.19         80          9"
            ]
          },
          "metadata": {
            "tags": []
          },
          "execution_count": 8
        }
      ]
    },
    {
      "cell_type": "code",
      "metadata": {
        "id": "rnGZgAXhxSqM",
        "colab_type": "code",
        "colab": {
          "base_uri": "https://localhost:8080/",
          "height": 164
        },
        "outputId": "75285199-deb4-4000-c83a-477e1a9e2fef"
      },
      "source": [
        "dados_metar.info()"
      ],
      "execution_count": null,
      "outputs": [
        {
          "output_type": "error",
          "ename": "NameError",
          "evalue": "ignored",
          "traceback": [
            "\u001b[0;31m---------------------------------------------------------------------------\u001b[0m",
            "\u001b[0;31mNameError\u001b[0m                                 Traceback (most recent call last)",
            "\u001b[0;32m<ipython-input-3-037d560ae798>\u001b[0m in \u001b[0;36m<module>\u001b[0;34m()\u001b[0m\n\u001b[0;32m----> 1\u001b[0;31m \u001b[0mdados_metar\u001b[0m\u001b[0;34m.\u001b[0m\u001b[0minfo\u001b[0m\u001b[0;34m(\u001b[0m\u001b[0;34m)\u001b[0m\u001b[0;34m\u001b[0m\u001b[0;34m\u001b[0m\u001b[0m\n\u001b[0m",
            "\u001b[0;31mNameError\u001b[0m: name 'dados_metar' is not defined"
          ]
        }
      ]
    },
    {
      "cell_type": "code",
      "metadata": {
        "id": "V9oXDTcKy4d3",
        "colab_type": "code",
        "colab": {}
      },
      "source": [
        "dados_metar['Data_Hora'] = pd.to_datetime(dados_metar['Data_Hora'])"
      ],
      "execution_count": null,
      "outputs": []
    },
    {
      "cell_type": "code",
      "metadata": {
        "id": "_sNQtXuQzk7M",
        "colab_type": "code",
        "colab": {}
      },
      "source": [
        "dados_metar = dados_metar.round(decimals=0)"
      ],
      "execution_count": null,
      "outputs": []
    },
    {
      "cell_type": "code",
      "metadata": {
        "id": "vlOwyTKTYJG5",
        "colab_type": "code",
        "colab": {}
      },
      "source": [
        "dados_metar['Umidade'] = dados_metar['Umidade'].astype(int)"
      ],
      "execution_count": null,
      "outputs": []
    },
    {
      "cell_type": "code",
      "metadata": {
        "id": "0dnDS5arZ2EG",
        "colab_type": "code",
        "colab": {}
      },
      "source": [
        "dados_metar.head()"
      ],
      "execution_count": null,
      "outputs": []
    },
    {
      "cell_type": "markdown",
      "metadata": {
        "id": "ZzN-P8AbunOm",
        "colab_type": "text"
      },
      "source": [
        "# Tratamento dos Dados da Plataforma Thingspeak\n",
        "\n",
        "\n",
        "*   Overview dos dados\n",
        "*   Removendo Colunas desnecessárias\n",
        "*   Renomeando colunas \n",
        "*   Casting de dados\n",
        "*   Agrupando valores por data e hora\n",
        "\n",
        "\n",
        "\n"
      ]
    },
    {
      "cell_type": "code",
      "metadata": {
        "id": "R5_vdBsbapiT",
        "colab_type": "code",
        "colab": {
          "base_uri": "https://localhost:8080/"
        },
        "outputId": "be1ed031-ebdf-43f6-935e-f2ab876e3cb6"
      },
      "source": [
        "dados_thingspeak.head()"
      ],
      "execution_count": null,
      "outputs": [
        {
          "output_type": "execute_result",
          "data": {
            "text/html": [
              "<div>\n",
              "<style scoped>\n",
              "    .dataframe tbody tr th:only-of-type {\n",
              "        vertical-align: middle;\n",
              "    }\n",
              "\n",
              "    .dataframe tbody tr th {\n",
              "        vertical-align: top;\n",
              "    }\n",
              "\n",
              "    .dataframe thead th {\n",
              "        text-align: right;\n",
              "    }\n",
              "</style>\n",
              "<table border=\"1\" class=\"dataframe\">\n",
              "  <thead>\n",
              "    <tr style=\"text-align: right;\">\n",
              "      <th></th>\n",
              "      <th>created_at</th>\n",
              "      <th>entry_id</th>\n",
              "      <th>field1</th>\n",
              "      <th>field2</th>\n",
              "      <th>field3</th>\n",
              "      <th>field4</th>\n",
              "      <th>field5</th>\n",
              "      <th>latitude</th>\n",
              "      <th>longitude</th>\n",
              "      <th>elevation</th>\n",
              "      <th>status</th>\n",
              "    </tr>\n",
              "  </thead>\n",
              "  <tbody>\n",
              "    <tr>\n",
              "      <th>0</th>\n",
              "      <td>2020-07-07 10:18:42 -03</td>\n",
              "      <td>1</td>\n",
              "      <td>26.55</td>\n",
              "      <td>1013.96</td>\n",
              "      <td>86.5</td>\n",
              "      <td>0.0</td>\n",
              "      <td>315.0</td>\n",
              "      <td>NaN</td>\n",
              "      <td>NaN</td>\n",
              "      <td>NaN</td>\n",
              "      <td>NaN</td>\n",
              "    </tr>\n",
              "    <tr>\n",
              "      <th>1</th>\n",
              "      <td>2020-07-07 10:19:13 -03</td>\n",
              "      <td>2</td>\n",
              "      <td>26.59</td>\n",
              "      <td>1013.91</td>\n",
              "      <td>86.6</td>\n",
              "      <td>0.0</td>\n",
              "      <td>135.0</td>\n",
              "      <td>NaN</td>\n",
              "      <td>NaN</td>\n",
              "      <td>NaN</td>\n",
              "      <td>NaN</td>\n",
              "    </tr>\n",
              "    <tr>\n",
              "      <th>2</th>\n",
              "      <td>2020-07-07 10:19:45 -03</td>\n",
              "      <td>3</td>\n",
              "      <td>26.67</td>\n",
              "      <td>1013.91</td>\n",
              "      <td>86.7</td>\n",
              "      <td>0.0</td>\n",
              "      <td>135.0</td>\n",
              "      <td>NaN</td>\n",
              "      <td>NaN</td>\n",
              "      <td>NaN</td>\n",
              "      <td>NaN</td>\n",
              "    </tr>\n",
              "    <tr>\n",
              "      <th>3</th>\n",
              "      <td>2020-07-07 10:20:16 -03</td>\n",
              "      <td>4</td>\n",
              "      <td>26.76</td>\n",
              "      <td>1013.96</td>\n",
              "      <td>87.1</td>\n",
              "      <td>0.0</td>\n",
              "      <td>90.0</td>\n",
              "      <td>NaN</td>\n",
              "      <td>NaN</td>\n",
              "      <td>NaN</td>\n",
              "      <td>NaN</td>\n",
              "    </tr>\n",
              "    <tr>\n",
              "      <th>4</th>\n",
              "      <td>2020-07-07 10:20:48 -03</td>\n",
              "      <td>5</td>\n",
              "      <td>26.79</td>\n",
              "      <td>1013.88</td>\n",
              "      <td>86.7</td>\n",
              "      <td>0.0</td>\n",
              "      <td>135.0</td>\n",
              "      <td>NaN</td>\n",
              "      <td>NaN</td>\n",
              "      <td>NaN</td>\n",
              "      <td>NaN</td>\n",
              "    </tr>\n",
              "  </tbody>\n",
              "</table>\n",
              "</div>"
            ],
            "text/plain": [
              "                created_at  entry_id  field1  ...  longitude  elevation  status\n",
              "0  2020-07-07 10:18:42 -03         1   26.55  ...        NaN        NaN     NaN\n",
              "1  2020-07-07 10:19:13 -03         2   26.59  ...        NaN        NaN     NaN\n",
              "2  2020-07-07 10:19:45 -03         3   26.67  ...        NaN        NaN     NaN\n",
              "3  2020-07-07 10:20:16 -03         4   26.76  ...        NaN        NaN     NaN\n",
              "4  2020-07-07 10:20:48 -03         5   26.79  ...        NaN        NaN     NaN\n",
              "\n",
              "[5 rows x 11 columns]"
            ]
          },
          "metadata": {
            "tags": []
          },
          "execution_count": 9
        }
      ]
    },
    {
      "cell_type": "code",
      "metadata": {
        "id": "qR_Q8jL8a7Wn",
        "colab_type": "code",
        "colab": {}
      },
      "source": [
        "dados_thingspeak.drop(columns=['entry_id','latitude','longitude','elevation','status'],inplace=True)"
      ],
      "execution_count": null,
      "outputs": []
    },
    {
      "cell_type": "code",
      "metadata": {
        "id": "HelULyv_bN9j",
        "colab_type": "code",
        "colab": {}
      },
      "source": [
        "dados_thingspeak.rename(columns={'field1':'temperatura','field2':'pressao','field3':'umidade','field4':'vel_vento','field5':'dir_vento'}, inplace=True)"
      ],
      "execution_count": null,
      "outputs": []
    },
    {
      "cell_type": "code",
      "metadata": {
        "id": "8PAXtKZbbqi1",
        "colab_type": "code",
        "colab": {
          "base_uri": "https://localhost:8080/"
        },
        "outputId": "f50f3062-baaa-41a8-a296-117e89540062"
      },
      "source": [
        "dados_thingspeak.head()"
      ],
      "execution_count": null,
      "outputs": [
        {
          "output_type": "execute_result",
          "data": {
            "text/html": [
              "<div>\n",
              "<style scoped>\n",
              "    .dataframe tbody tr th:only-of-type {\n",
              "        vertical-align: middle;\n",
              "    }\n",
              "\n",
              "    .dataframe tbody tr th {\n",
              "        vertical-align: top;\n",
              "    }\n",
              "\n",
              "    .dataframe thead th {\n",
              "        text-align: right;\n",
              "    }\n",
              "</style>\n",
              "<table border=\"1\" class=\"dataframe\">\n",
              "  <thead>\n",
              "    <tr style=\"text-align: right;\">\n",
              "      <th></th>\n",
              "      <th>created_at</th>\n",
              "      <th>temperatura</th>\n",
              "      <th>pressao</th>\n",
              "      <th>umidade</th>\n",
              "      <th>vel_vento</th>\n",
              "      <th>dir_vento</th>\n",
              "    </tr>\n",
              "  </thead>\n",
              "  <tbody>\n",
              "    <tr>\n",
              "      <th>0</th>\n",
              "      <td>2020-07-07 10:18:42 -03</td>\n",
              "      <td>26.55</td>\n",
              "      <td>1013.96</td>\n",
              "      <td>86.5</td>\n",
              "      <td>0.0</td>\n",
              "      <td>315.0</td>\n",
              "    </tr>\n",
              "    <tr>\n",
              "      <th>1</th>\n",
              "      <td>2020-07-07 10:19:13 -03</td>\n",
              "      <td>26.59</td>\n",
              "      <td>1013.91</td>\n",
              "      <td>86.6</td>\n",
              "      <td>0.0</td>\n",
              "      <td>135.0</td>\n",
              "    </tr>\n",
              "    <tr>\n",
              "      <th>2</th>\n",
              "      <td>2020-07-07 10:19:45 -03</td>\n",
              "      <td>26.67</td>\n",
              "      <td>1013.91</td>\n",
              "      <td>86.7</td>\n",
              "      <td>0.0</td>\n",
              "      <td>135.0</td>\n",
              "    </tr>\n",
              "    <tr>\n",
              "      <th>3</th>\n",
              "      <td>2020-07-07 10:20:16 -03</td>\n",
              "      <td>26.76</td>\n",
              "      <td>1013.96</td>\n",
              "      <td>87.1</td>\n",
              "      <td>0.0</td>\n",
              "      <td>90.0</td>\n",
              "    </tr>\n",
              "    <tr>\n",
              "      <th>4</th>\n",
              "      <td>2020-07-07 10:20:48 -03</td>\n",
              "      <td>26.79</td>\n",
              "      <td>1013.88</td>\n",
              "      <td>86.7</td>\n",
              "      <td>0.0</td>\n",
              "      <td>135.0</td>\n",
              "    </tr>\n",
              "  </tbody>\n",
              "</table>\n",
              "</div>"
            ],
            "text/plain": [
              "                created_at  temperatura  pressao  umidade  vel_vento  dir_vento\n",
              "0  2020-07-07 10:18:42 -03        26.55  1013.96     86.5        0.0      315.0\n",
              "1  2020-07-07 10:19:13 -03        26.59  1013.91     86.6        0.0      135.0\n",
              "2  2020-07-07 10:19:45 -03        26.67  1013.91     86.7        0.0      135.0\n",
              "3  2020-07-07 10:20:16 -03        26.76  1013.96     87.1        0.0       90.0\n",
              "4  2020-07-07 10:20:48 -03        26.79  1013.88     86.7        0.0      135.0"
            ]
          },
          "metadata": {
            "tags": []
          },
          "execution_count": 12
        }
      ]
    },
    {
      "cell_type": "markdown",
      "metadata": {
        "id": "g7iwXdgEalbp",
        "colab_type": "text"
      },
      "source": [
        "## Removendo a informação do Fuso horário na coluna created_at"
      ]
    },
    {
      "cell_type": "code",
      "metadata": {
        "id": "7YSAs8vkli09",
        "colab_type": "code",
        "colab": {}
      },
      "source": [
        "dados_thingspeak['created_at'] = dados_thingspeak['created_at'].map(lambda x: x.rstrip('-03'))"
      ],
      "execution_count": null,
      "outputs": []
    },
    {
      "cell_type": "code",
      "metadata": {
        "id": "sbRg6eqovFd5",
        "colab_type": "code",
        "colab": {
          "base_uri": "https://localhost:8080/"
        },
        "outputId": "9bd35a18-e30a-458f-c62b-da6950da1d1b"
      },
      "source": [
        "dados_thingspeak.head()"
      ],
      "execution_count": null,
      "outputs": [
        {
          "output_type": "execute_result",
          "data": {
            "text/html": [
              "<div>\n",
              "<style scoped>\n",
              "    .dataframe tbody tr th:only-of-type {\n",
              "        vertical-align: middle;\n",
              "    }\n",
              "\n",
              "    .dataframe tbody tr th {\n",
              "        vertical-align: top;\n",
              "    }\n",
              "\n",
              "    .dataframe thead th {\n",
              "        text-align: right;\n",
              "    }\n",
              "</style>\n",
              "<table border=\"1\" class=\"dataframe\">\n",
              "  <thead>\n",
              "    <tr style=\"text-align: right;\">\n",
              "      <th></th>\n",
              "      <th>created_at</th>\n",
              "      <th>temperatura</th>\n",
              "      <th>pressao</th>\n",
              "      <th>umidade</th>\n",
              "      <th>vel_vento</th>\n",
              "      <th>dir_vento</th>\n",
              "    </tr>\n",
              "  </thead>\n",
              "  <tbody>\n",
              "    <tr>\n",
              "      <th>0</th>\n",
              "      <td>2020-07-07 10:18:42</td>\n",
              "      <td>26.55</td>\n",
              "      <td>1013.96</td>\n",
              "      <td>86.5</td>\n",
              "      <td>0.0</td>\n",
              "      <td>315.0</td>\n",
              "    </tr>\n",
              "    <tr>\n",
              "      <th>1</th>\n",
              "      <td>2020-07-07 10:19:13</td>\n",
              "      <td>26.59</td>\n",
              "      <td>1013.91</td>\n",
              "      <td>86.6</td>\n",
              "      <td>0.0</td>\n",
              "      <td>135.0</td>\n",
              "    </tr>\n",
              "    <tr>\n",
              "      <th>2</th>\n",
              "      <td>2020-07-07 10:19:45</td>\n",
              "      <td>26.67</td>\n",
              "      <td>1013.91</td>\n",
              "      <td>86.7</td>\n",
              "      <td>0.0</td>\n",
              "      <td>135.0</td>\n",
              "    </tr>\n",
              "    <tr>\n",
              "      <th>3</th>\n",
              "      <td>2020-07-07 10:20:16</td>\n",
              "      <td>26.76</td>\n",
              "      <td>1013.96</td>\n",
              "      <td>87.1</td>\n",
              "      <td>0.0</td>\n",
              "      <td>90.0</td>\n",
              "    </tr>\n",
              "    <tr>\n",
              "      <th>4</th>\n",
              "      <td>2020-07-07 10:20:48</td>\n",
              "      <td>26.79</td>\n",
              "      <td>1013.88</td>\n",
              "      <td>86.7</td>\n",
              "      <td>0.0</td>\n",
              "      <td>135.0</td>\n",
              "    </tr>\n",
              "  </tbody>\n",
              "</table>\n",
              "</div>"
            ],
            "text/plain": [
              "             created_at  temperatura  pressao  umidade  vel_vento  dir_vento\n",
              "0  2020-07-07 10:18:42         26.55  1013.96     86.5        0.0      315.0\n",
              "1  2020-07-07 10:19:13         26.59  1013.91     86.6        0.0      135.0\n",
              "2  2020-07-07 10:19:45         26.67  1013.91     86.7        0.0      135.0\n",
              "3  2020-07-07 10:20:16         26.76  1013.96     87.1        0.0       90.0\n",
              "4  2020-07-07 10:20:48         26.79  1013.88     86.7        0.0      135.0"
            ]
          },
          "metadata": {
            "tags": []
          },
          "execution_count": 14
        }
      ]
    },
    {
      "cell_type": "markdown",
      "metadata": {
        "id": "SRRDAJltau4m",
        "colab_type": "text"
      },
      "source": [
        "## Convertendo coluna created_at para o tipo datetime"
      ]
    },
    {
      "cell_type": "code",
      "metadata": {
        "id": "vas6fzV6aiTy",
        "colab_type": "code",
        "colab": {
          "base_uri": "https://localhost:8080/"
        },
        "outputId": "c21a4db9-5593-44ae-88fd-ecd101adaeef"
      },
      "source": [
        "dados_thingspeak.info()"
      ],
      "execution_count": null,
      "outputs": [
        {
          "output_type": "stream",
          "text": [
            "<class 'pandas.core.frame.DataFrame'>\n",
            "RangeIndex: 13516 entries, 0 to 13515\n",
            "Data columns (total 6 columns):\n",
            " #   Column       Non-Null Count  Dtype  \n",
            "---  ------       --------------  -----  \n",
            " 0   created_at   13516 non-null  object \n",
            " 1   temperatura  13174 non-null  float64\n",
            " 2   pressao      13174 non-null  float64\n",
            " 3   umidade      13174 non-null  float64\n",
            " 4   vel_vento    13173 non-null  float64\n",
            " 5   dir_vento    13171 non-null  float64\n",
            "dtypes: float64(5), object(1)\n",
            "memory usage: 633.7+ KB\n"
          ],
          "name": "stdout"
        }
      ]
    },
    {
      "cell_type": "code",
      "metadata": {
        "id": "TH3s6b8HvX4q",
        "colab_type": "code",
        "colab": {}
      },
      "source": [
        "dados_thingspeak['created_at'] = pd.to_datetime(dados_thingspeak['created_at'])"
      ],
      "execution_count": null,
      "outputs": []
    },
    {
      "cell_type": "code",
      "metadata": {
        "id": "PsDvSfu1vgQg",
        "colab_type": "code",
        "colab": {
          "base_uri": "https://localhost:8080/"
        },
        "outputId": "e46fc1f4-3421-4cab-eda6-67d00f169c14"
      },
      "source": [
        "dados_thingspeak.info()"
      ],
      "execution_count": null,
      "outputs": [
        {
          "output_type": "stream",
          "text": [
            "<class 'pandas.core.frame.DataFrame'>\n",
            "RangeIndex: 13516 entries, 0 to 13515\n",
            "Data columns (total 6 columns):\n",
            " #   Column       Non-Null Count  Dtype         \n",
            "---  ------       --------------  -----         \n",
            " 0   created_at   13516 non-null  datetime64[ns]\n",
            " 1   temperatura  13174 non-null  float64       \n",
            " 2   pressao      13174 non-null  float64       \n",
            " 3   umidade      13174 non-null  float64       \n",
            " 4   vel_vento    13173 non-null  float64       \n",
            " 5   dir_vento    13171 non-null  float64       \n",
            "dtypes: datetime64[ns](1), float64(5)\n",
            "memory usage: 633.7 KB\n"
          ],
          "name": "stdout"
        }
      ]
    },
    {
      "cell_type": "markdown",
      "metadata": {
        "id": "aF8Cepr-bEbQ",
        "colab_type": "text"
      },
      "source": [
        "## Selecionando apenas os período da amostra"
      ]
    },
    {
      "cell_type": "code",
      "metadata": {
        "id": "icyXrPf2LJOX",
        "colab_type": "code",
        "colab": {}
      },
      "source": [
        "amostra_prototipo = dados_thingspeak.query('created_at >= \"2020-07-09 13:00\"')"
      ],
      "execution_count": null,
      "outputs": []
    },
    {
      "cell_type": "code",
      "metadata": {
        "id": "NIuyjOj_aB0g",
        "colab_type": "code",
        "colab": {
          "base_uri": "https://localhost:8080/"
        },
        "outputId": "c875fa54-1ce3-4345-dcb7-0b93c04b81ed"
      },
      "source": [
        "amostra_prototipo.info()"
      ],
      "execution_count": null,
      "outputs": [
        {
          "output_type": "stream",
          "text": [
            "<class 'pandas.core.frame.DataFrame'>\n",
            "Int64Index: 10157 entries, 3359 to 13515\n",
            "Data columns (total 6 columns):\n",
            " #   Column       Non-Null Count  Dtype         \n",
            "---  ------       --------------  -----         \n",
            " 0   created_at   10157 non-null  datetime64[ns]\n",
            " 1   temperatura  10157 non-null  float64       \n",
            " 2   pressao      10157 non-null  float64       \n",
            " 3   umidade      10157 non-null  float64       \n",
            " 4   vel_vento    10156 non-null  float64       \n",
            " 5   dir_vento    10156 non-null  float64       \n",
            "dtypes: datetime64[ns](1), float64(5)\n",
            "memory usage: 555.5 KB\n"
          ],
          "name": "stdout"
        }
      ]
    },
    {
      "cell_type": "code",
      "metadata": {
        "id": "YnEy1kPoadLN",
        "colab_type": "code",
        "colab": {}
      },
      "source": [
        "amostra_prototipo = amostra_prototipo.round(decimals=0)"
      ],
      "execution_count": null,
      "outputs": []
    },
    {
      "cell_type": "markdown",
      "metadata": {
        "id": "rjpyTJadbXEg",
        "colab_type": "text"
      },
      "source": [
        "## Arredondando valores da amostra e removendo valores nulos"
      ]
    },
    {
      "cell_type": "code",
      "metadata": {
        "id": "j2ejOoKVzDLM",
        "colab_type": "code",
        "colab": {
          "base_uri": "https://localhost:8080/"
        },
        "outputId": "fad7715f-55c2-45cb-deac-f05801dd9957"
      },
      "source": [
        "amostra_prototipo['temperatura'] = amostra_prototipo['temperatura'].astype(int)\n",
        "amostra_prototipo['pressao'] = amostra_prototipo['pressao'].astype(int)\n",
        "amostra_prototipo['umidade'] = amostra_prototipo['umidade'].astype(int)\n",
        "amostra_prototipo.info()"
      ],
      "execution_count": null,
      "outputs": [
        {
          "output_type": "stream",
          "text": [
            "<class 'pandas.core.frame.DataFrame'>\n",
            "Int64Index: 10157 entries, 3359 to 13515\n",
            "Data columns (total 6 columns):\n",
            " #   Column       Non-Null Count  Dtype         \n",
            "---  ------       --------------  -----         \n",
            " 0   created_at   10157 non-null  datetime64[ns]\n",
            " 1   temperatura  10157 non-null  int64         \n",
            " 2   pressao      10157 non-null  int64         \n",
            " 3   umidade      10157 non-null  int64         \n",
            " 4   vel_vento    10156 non-null  float64       \n",
            " 5   dir_vento    10156 non-null  float64       \n",
            "dtypes: datetime64[ns](1), float64(2), int64(3)\n",
            "memory usage: 555.5 KB\n"
          ],
          "name": "stdout"
        }
      ]
    },
    {
      "cell_type": "code",
      "metadata": {
        "id": "tFZu8RTU3taX",
        "colab_type": "code",
        "colab": {}
      },
      "source": [
        "amostra_prototipo.isnull().sum()\n",
        "amostra_prototipo['vel_vento'].fillna(amostra_prototipo['vel_vento'].mean(), inplace=True)\n",
        "amostra_prototipo['dir_vento'].fillna(amostra_prototipo['dir_vento'].median(), inplace=True)"
      ],
      "execution_count": null,
      "outputs": []
    },
    {
      "cell_type": "code",
      "metadata": {
        "id": "BwonNk-E4qmy",
        "colab_type": "code",
        "colab": {
          "base_uri": "https://localhost:8080/"
        },
        "outputId": "8c429096-4966-41e3-9d0b-f57f64ff0bd9"
      },
      "source": [
        "amostra_prototipo['vel_vento'] = amostra_prototipo['vel_vento'].astype(int)\n",
        "amostra_prototipo['dir_vento'] = amostra_prototipo['dir_vento'].astype(int)\n",
        "amostra_prototipo.info()"
      ],
      "execution_count": null,
      "outputs": [
        {
          "output_type": "stream",
          "text": [
            "<class 'pandas.core.frame.DataFrame'>\n",
            "Int64Index: 10157 entries, 3359 to 13515\n",
            "Data columns (total 6 columns):\n",
            " #   Column       Non-Null Count  Dtype         \n",
            "---  ------       --------------  -----         \n",
            " 0   created_at   10157 non-null  datetime64[ns]\n",
            " 1   temperatura  10157 non-null  int64         \n",
            " 2   pressao      10157 non-null  int64         \n",
            " 3   umidade      10157 non-null  int64         \n",
            " 4   vel_vento    10157 non-null  int64         \n",
            " 5   dir_vento    10157 non-null  int64         \n",
            "dtypes: datetime64[ns](1), int64(5)\n",
            "memory usage: 555.5 KB\n"
          ],
          "name": "stdout"
        }
      ]
    },
    {
      "cell_type": "code",
      "metadata": {
        "id": "AEN6xdh15pE6",
        "colab_type": "code",
        "colab": {
          "base_uri": "https://localhost:8080/"
        },
        "outputId": "b2437d0d-f4b1-4052-cae3-e452d70d1bf2"
      },
      "source": [
        "amostra_prototipo['created_at'].dt.day\n"
      ],
      "execution_count": null,
      "outputs": [
        {
          "output_type": "execute_result",
          "data": {
            "text/plain": [
              "3359      9\n",
              "3360      9\n",
              "3361      9\n",
              "3362      9\n",
              "3363      9\n",
              "         ..\n",
              "13511    13\n",
              "13512    13\n",
              "13513    13\n",
              "13514    13\n",
              "13515    13\n",
              "Name: created_at, Length: 10157, dtype: int64"
            ]
          },
          "metadata": {
            "tags": []
          },
          "execution_count": 24
        }
      ]
    },
    {
      "cell_type": "code",
      "metadata": {
        "id": "quVHHhT7awc2",
        "colab_type": "code",
        "colab": {
          "base_uri": "https://localhost:8080/"
        },
        "outputId": "64fe1666-8714-4336-df1e-798467bfda88"
      },
      "source": [
        "amostra_prototipo['Dias'] = pd.to_datetime(amostra_prototipo['created_at']).dt.date\n",
        "amostra_prototipo['hora'] = pd.to_datetime(amostra_prototipo['created_at']).dt.time\n",
        "amostra_prototipo"
      ],
      "execution_count": null,
      "outputs": [
        {
          "output_type": "execute_result",
          "data": {
            "text/html": [
              "<div>\n",
              "<style scoped>\n",
              "    .dataframe tbody tr th:only-of-type {\n",
              "        vertical-align: middle;\n",
              "    }\n",
              "\n",
              "    .dataframe tbody tr th {\n",
              "        vertical-align: top;\n",
              "    }\n",
              "\n",
              "    .dataframe thead th {\n",
              "        text-align: right;\n",
              "    }\n",
              "</style>\n",
              "<table border=\"1\" class=\"dataframe\">\n",
              "  <thead>\n",
              "    <tr style=\"text-align: right;\">\n",
              "      <th></th>\n",
              "      <th>created_at</th>\n",
              "      <th>temperatura</th>\n",
              "      <th>pressao</th>\n",
              "      <th>umidade</th>\n",
              "      <th>vel_vento</th>\n",
              "      <th>dir_vento</th>\n",
              "      <th>Dias</th>\n",
              "      <th>hora</th>\n",
              "    </tr>\n",
              "  </thead>\n",
              "  <tbody>\n",
              "    <tr>\n",
              "      <th>3359</th>\n",
              "      <td>2020-07-09 13:00:21</td>\n",
              "      <td>30</td>\n",
              "      <td>1014</td>\n",
              "      <td>79</td>\n",
              "      <td>0</td>\n",
              "      <td>90</td>\n",
              "      <td>2020-07-09</td>\n",
              "      <td>13:00:21</td>\n",
              "    </tr>\n",
              "    <tr>\n",
              "      <th>3360</th>\n",
              "      <td>2020-07-09 13:00:52</td>\n",
              "      <td>30</td>\n",
              "      <td>1014</td>\n",
              "      <td>78</td>\n",
              "      <td>0</td>\n",
              "      <td>90</td>\n",
              "      <td>2020-07-09</td>\n",
              "      <td>13:00:52</td>\n",
              "    </tr>\n",
              "    <tr>\n",
              "      <th>3361</th>\n",
              "      <td>2020-07-09 13:01:23</td>\n",
              "      <td>30</td>\n",
              "      <td>1014</td>\n",
              "      <td>78</td>\n",
              "      <td>0</td>\n",
              "      <td>90</td>\n",
              "      <td>2020-07-09</td>\n",
              "      <td>13:01:23</td>\n",
              "    </tr>\n",
              "    <tr>\n",
              "      <th>3362</th>\n",
              "      <td>2020-07-09 13:01:55</td>\n",
              "      <td>30</td>\n",
              "      <td>1014</td>\n",
              "      <td>78</td>\n",
              "      <td>0</td>\n",
              "      <td>90</td>\n",
              "      <td>2020-07-09</td>\n",
              "      <td>13:01:55</td>\n",
              "    </tr>\n",
              "    <tr>\n",
              "      <th>3363</th>\n",
              "      <td>2020-07-09 13:02:26</td>\n",
              "      <td>30</td>\n",
              "      <td>1014</td>\n",
              "      <td>77</td>\n",
              "      <td>0</td>\n",
              "      <td>90</td>\n",
              "      <td>2020-07-09</td>\n",
              "      <td>13:02:26</td>\n",
              "    </tr>\n",
              "    <tr>\n",
              "      <th>...</th>\n",
              "      <td>...</td>\n",
              "      <td>...</td>\n",
              "      <td>...</td>\n",
              "      <td>...</td>\n",
              "      <td>...</td>\n",
              "      <td>...</td>\n",
              "      <td>...</td>\n",
              "      <td>...</td>\n",
              "    </tr>\n",
              "    <tr>\n",
              "      <th>13511</th>\n",
              "      <td>2020-07-13 06:40:54</td>\n",
              "      <td>27</td>\n",
              "      <td>1014</td>\n",
              "      <td>74</td>\n",
              "      <td>0</td>\n",
              "      <td>45</td>\n",
              "      <td>2020-07-13</td>\n",
              "      <td>06:40:54</td>\n",
              "    </tr>\n",
              "    <tr>\n",
              "      <th>13512</th>\n",
              "      <td>2020-07-13 06:41:26</td>\n",
              "      <td>27</td>\n",
              "      <td>1014</td>\n",
              "      <td>74</td>\n",
              "      <td>0</td>\n",
              "      <td>45</td>\n",
              "      <td>2020-07-13</td>\n",
              "      <td>06:41:26</td>\n",
              "    </tr>\n",
              "    <tr>\n",
              "      <th>13513</th>\n",
              "      <td>2020-07-13 06:41:57</td>\n",
              "      <td>27</td>\n",
              "      <td>1014</td>\n",
              "      <td>74</td>\n",
              "      <td>0</td>\n",
              "      <td>90</td>\n",
              "      <td>2020-07-13</td>\n",
              "      <td>06:41:57</td>\n",
              "    </tr>\n",
              "    <tr>\n",
              "      <th>13514</th>\n",
              "      <td>2020-07-13 06:42:28</td>\n",
              "      <td>27</td>\n",
              "      <td>1014</td>\n",
              "      <td>75</td>\n",
              "      <td>0</td>\n",
              "      <td>90</td>\n",
              "      <td>2020-07-13</td>\n",
              "      <td>06:42:28</td>\n",
              "    </tr>\n",
              "    <tr>\n",
              "      <th>13515</th>\n",
              "      <td>2020-07-13 06:43:00</td>\n",
              "      <td>27</td>\n",
              "      <td>1014</td>\n",
              "      <td>74</td>\n",
              "      <td>0</td>\n",
              "      <td>135</td>\n",
              "      <td>2020-07-13</td>\n",
              "      <td>06:43:00</td>\n",
              "    </tr>\n",
              "  </tbody>\n",
              "</table>\n",
              "<p>10157 rows × 8 columns</p>\n",
              "</div>"
            ],
            "text/plain": [
              "               created_at  temperatura  ...        Dias      hora\n",
              "3359  2020-07-09 13:00:21           30  ...  2020-07-09  13:00:21\n",
              "3360  2020-07-09 13:00:52           30  ...  2020-07-09  13:00:52\n",
              "3361  2020-07-09 13:01:23           30  ...  2020-07-09  13:01:23\n",
              "3362  2020-07-09 13:01:55           30  ...  2020-07-09  13:01:55\n",
              "3363  2020-07-09 13:02:26           30  ...  2020-07-09  13:02:26\n",
              "...                   ...          ...  ...         ...       ...\n",
              "13511 2020-07-13 06:40:54           27  ...  2020-07-13  06:40:54\n",
              "13512 2020-07-13 06:41:26           27  ...  2020-07-13  06:41:26\n",
              "13513 2020-07-13 06:41:57           27  ...  2020-07-13  06:41:57\n",
              "13514 2020-07-13 06:42:28           27  ...  2020-07-13  06:42:28\n",
              "13515 2020-07-13 06:43:00           27  ...  2020-07-13  06:43:00\n",
              "\n",
              "[10157 rows x 8 columns]"
            ]
          },
          "metadata": {
            "tags": []
          },
          "execution_count": 25
        }
      ]
    },
    {
      "cell_type": "code",
      "metadata": {
        "id": "cT9k5r39vqyU",
        "colab_type": "code",
        "colab": {}
      },
      "source": [
        "amostra_hora = amostra_prototipo.resample('H', on='created_at').mean()"
      ],
      "execution_count": null,
      "outputs": []
    },
    {
      "cell_type": "code",
      "metadata": {
        "id": "ARKgWNHLVQmN",
        "colab_type": "code",
        "colab": {
          "base_uri": "https://localhost:8080/"
        },
        "outputId": "603e5c04-4f9f-47c7-83d7-4d2442cb3a32"
      },
      "source": [
        "amostra_hora"
      ],
      "execution_count": null,
      "outputs": [
        {
          "output_type": "execute_result",
          "data": {
            "text/html": [
              "<div>\n",
              "<style scoped>\n",
              "    .dataframe tbody tr th:only-of-type {\n",
              "        vertical-align: middle;\n",
              "    }\n",
              "\n",
              "    .dataframe tbody tr th {\n",
              "        vertical-align: top;\n",
              "    }\n",
              "\n",
              "    .dataframe thead th {\n",
              "        text-align: right;\n",
              "    }\n",
              "</style>\n",
              "<table border=\"1\" class=\"dataframe\">\n",
              "  <thead>\n",
              "    <tr style=\"text-align: right;\">\n",
              "      <th></th>\n",
              "      <th>temperatura</th>\n",
              "      <th>pressao</th>\n",
              "      <th>umidade</th>\n",
              "      <th>vel_vento</th>\n",
              "      <th>dir_vento</th>\n",
              "    </tr>\n",
              "    <tr>\n",
              "      <th>created_at</th>\n",
              "      <th></th>\n",
              "      <th></th>\n",
              "      <th></th>\n",
              "      <th></th>\n",
              "      <th></th>\n",
              "    </tr>\n",
              "  </thead>\n",
              "  <tbody>\n",
              "    <tr>\n",
              "      <th>2020-07-09 13:00:00</th>\n",
              "      <td>30.000000</td>\n",
              "      <td>1013.105263</td>\n",
              "      <td>77.719298</td>\n",
              "      <td>0.026316</td>\n",
              "      <td>103.815789</td>\n",
              "    </tr>\n",
              "    <tr>\n",
              "      <th>2020-07-09 14:00:00</th>\n",
              "      <td>30.000000</td>\n",
              "      <td>1013.000000</td>\n",
              "      <td>78.930435</td>\n",
              "      <td>0.034783</td>\n",
              "      <td>98.217391</td>\n",
              "    </tr>\n",
              "    <tr>\n",
              "      <th>2020-07-09 15:00:00</th>\n",
              "      <td>30.000000</td>\n",
              "      <td>1013.095652</td>\n",
              "      <td>80.269565</td>\n",
              "      <td>0.000000</td>\n",
              "      <td>104.478261</td>\n",
              "    </tr>\n",
              "    <tr>\n",
              "      <th>2020-07-09 16:00:00</th>\n",
              "      <td>30.000000</td>\n",
              "      <td>1013.826087</td>\n",
              "      <td>80.486957</td>\n",
              "      <td>0.000000</td>\n",
              "      <td>99.000000</td>\n",
              "    </tr>\n",
              "    <tr>\n",
              "      <th>2020-07-09 17:00:00</th>\n",
              "      <td>29.311475</td>\n",
              "      <td>1013.475410</td>\n",
              "      <td>79.229508</td>\n",
              "      <td>0.000000</td>\n",
              "      <td>109.918033</td>\n",
              "    </tr>\n",
              "    <tr>\n",
              "      <th>...</th>\n",
              "      <td>...</td>\n",
              "      <td>...</td>\n",
              "      <td>...</td>\n",
              "      <td>...</td>\n",
              "      <td>...</td>\n",
              "    </tr>\n",
              "    <tr>\n",
              "      <th>2020-07-13 02:00:00</th>\n",
              "      <td>28.000000</td>\n",
              "      <td>1012.095652</td>\n",
              "      <td>74.130435</td>\n",
              "      <td>0.304348</td>\n",
              "      <td>114.652174</td>\n",
              "    </tr>\n",
              "    <tr>\n",
              "      <th>2020-07-13 03:00:00</th>\n",
              "      <td>27.947826</td>\n",
              "      <td>1012.191304</td>\n",
              "      <td>77.008696</td>\n",
              "      <td>0.000000</td>\n",
              "      <td>141.260870</td>\n",
              "    </tr>\n",
              "    <tr>\n",
              "      <th>2020-07-13 04:00:00</th>\n",
              "      <td>27.000000</td>\n",
              "      <td>1012.991304</td>\n",
              "      <td>79.139130</td>\n",
              "      <td>0.008696</td>\n",
              "      <td>146.347826</td>\n",
              "    </tr>\n",
              "    <tr>\n",
              "      <th>2020-07-13 05:00:00</th>\n",
              "      <td>27.000000</td>\n",
              "      <td>1013.000000</td>\n",
              "      <td>77.298246</td>\n",
              "      <td>0.000000</td>\n",
              "      <td>146.447368</td>\n",
              "    </tr>\n",
              "    <tr>\n",
              "      <th>2020-07-13 06:00:00</th>\n",
              "      <td>27.000000</td>\n",
              "      <td>1013.915663</td>\n",
              "      <td>74.734940</td>\n",
              "      <td>0.012048</td>\n",
              "      <td>124.698795</td>\n",
              "    </tr>\n",
              "  </tbody>\n",
              "</table>\n",
              "<p>90 rows × 5 columns</p>\n",
              "</div>"
            ],
            "text/plain": [
              "                     temperatura      pressao    umidade  vel_vento   dir_vento\n",
              "created_at                                                                     \n",
              "2020-07-09 13:00:00    30.000000  1013.105263  77.719298   0.026316  103.815789\n",
              "2020-07-09 14:00:00    30.000000  1013.000000  78.930435   0.034783   98.217391\n",
              "2020-07-09 15:00:00    30.000000  1013.095652  80.269565   0.000000  104.478261\n",
              "2020-07-09 16:00:00    30.000000  1013.826087  80.486957   0.000000   99.000000\n",
              "2020-07-09 17:00:00    29.311475  1013.475410  79.229508   0.000000  109.918033\n",
              "...                          ...          ...        ...        ...         ...\n",
              "2020-07-13 02:00:00    28.000000  1012.095652  74.130435   0.304348  114.652174\n",
              "2020-07-13 03:00:00    27.947826  1012.191304  77.008696   0.000000  141.260870\n",
              "2020-07-13 04:00:00    27.000000  1012.991304  79.139130   0.008696  146.347826\n",
              "2020-07-13 05:00:00    27.000000  1013.000000  77.298246   0.000000  146.447368\n",
              "2020-07-13 06:00:00    27.000000  1013.915663  74.734940   0.012048  124.698795\n",
              "\n",
              "[90 rows x 5 columns]"
            ]
          },
          "metadata": {
            "tags": []
          },
          "execution_count": 27
        }
      ]
    },
    {
      "cell_type": "markdown",
      "metadata": {
        "id": "Ahr4Psdiqu04",
        "colab_type": "text"
      },
      "source": [
        "# Analisando Variável temperatura"
      ]
    },
    {
      "cell_type": "markdown",
      "metadata": {
        "id": "Erew7I4KfSbt",
        "colab_type": "text"
      },
      "source": [
        "## Formando o Dataset de temperatura"
      ]
    },
    {
      "cell_type": "code",
      "metadata": {
        "id": "ffkVf-XMqt74",
        "colab_type": "code",
        "colab": {}
      },
      "source": [
        "temperatura = dados_metar[['Data_Hora','Temp']]"
      ],
      "execution_count": null,
      "outputs": []
    },
    {
      "cell_type": "code",
      "metadata": {
        "id": "ZHNtVUYaYZMf",
        "colab_type": "code",
        "colab": {
          "base_uri": "https://localhost:8080/"
        },
        "outputId": "707fb0bc-a5a9-4df3-f9cb-5d3677db2d3b"
      },
      "source": [
        "temperatura.rename(mapper = {'Temp':'Temperatura_REDEMET'},axis=1)\n",
        "\n"
      ],
      "execution_count": null,
      "outputs": [
        {
          "output_type": "execute_result",
          "data": {
            "text/html": [
              "<div>\n",
              "<style scoped>\n",
              "    .dataframe tbody tr th:only-of-type {\n",
              "        vertical-align: middle;\n",
              "    }\n",
              "\n",
              "    .dataframe tbody tr th {\n",
              "        vertical-align: top;\n",
              "    }\n",
              "\n",
              "    .dataframe thead th {\n",
              "        text-align: right;\n",
              "    }\n",
              "</style>\n",
              "<table border=\"1\" class=\"dataframe\">\n",
              "  <thead>\n",
              "    <tr style=\"text-align: right;\">\n",
              "      <th></th>\n",
              "      <th>Data_Hora</th>\n",
              "      <th>Temperatura_REDEMET</th>\n",
              "    </tr>\n",
              "  </thead>\n",
              "  <tbody>\n",
              "    <tr>\n",
              "      <th>0</th>\n",
              "      <td>09/07/2020 13:00</td>\n",
              "      <td>30</td>\n",
              "    </tr>\n",
              "    <tr>\n",
              "      <th>1</th>\n",
              "      <td>09/07/2020 14:00</td>\n",
              "      <td>30</td>\n",
              "    </tr>\n",
              "    <tr>\n",
              "      <th>2</th>\n",
              "      <td>09/07/2020 15:00</td>\n",
              "      <td>30</td>\n",
              "    </tr>\n",
              "    <tr>\n",
              "      <th>3</th>\n",
              "      <td>09/07/2020 16:00</td>\n",
              "      <td>30</td>\n",
              "    </tr>\n",
              "    <tr>\n",
              "      <th>4</th>\n",
              "      <td>09/07/2020 17:00</td>\n",
              "      <td>30</td>\n",
              "    </tr>\n",
              "    <tr>\n",
              "      <th>...</th>\n",
              "      <td>...</td>\n",
              "      <td>...</td>\n",
              "    </tr>\n",
              "    <tr>\n",
              "      <th>85</th>\n",
              "      <td>13/07/2020 02:00</td>\n",
              "      <td>26</td>\n",
              "    </tr>\n",
              "    <tr>\n",
              "      <th>86</th>\n",
              "      <td>13/07/2020 03:00</td>\n",
              "      <td>25</td>\n",
              "    </tr>\n",
              "    <tr>\n",
              "      <th>87</th>\n",
              "      <td>13/07/2020 04:00</td>\n",
              "      <td>24</td>\n",
              "    </tr>\n",
              "    <tr>\n",
              "      <th>88</th>\n",
              "      <td>13/07/2020 05:00</td>\n",
              "      <td>24</td>\n",
              "    </tr>\n",
              "    <tr>\n",
              "      <th>89</th>\n",
              "      <td>13/07/2020 06:00</td>\n",
              "      <td>23</td>\n",
              "    </tr>\n",
              "  </tbody>\n",
              "</table>\n",
              "<p>90 rows × 2 columns</p>\n",
              "</div>"
            ],
            "text/plain": [
              "           Data_Hora  Temperatura_REDEMET\n",
              "0   09/07/2020 13:00                   30\n",
              "1   09/07/2020 14:00                   30\n",
              "2   09/07/2020 15:00                   30\n",
              "3   09/07/2020 16:00                   30\n",
              "4   09/07/2020 17:00                   30\n",
              "..               ...                  ...\n",
              "85  13/07/2020 02:00                   26\n",
              "86  13/07/2020 03:00                   25\n",
              "87  13/07/2020 04:00                   24\n",
              "88  13/07/2020 05:00                   24\n",
              "89  13/07/2020 06:00                   23\n",
              "\n",
              "[90 rows x 2 columns]"
            ]
          },
          "metadata": {
            "tags": []
          },
          "execution_count": 29
        }
      ]
    },
    {
      "cell_type": "code",
      "metadata": {
        "id": "bCrc86O2SQ_O",
        "colab_type": "code",
        "colab": {}
      },
      "source": [
        "amostra_hora['temperatura'] = amostra_hora['temperatura'].astype(int)\n",
        "amostra_hora['pressao'] = amostra_hora['pressao'].astype(int)\n",
        "amostra_hora['umidade'] = amostra_hora['umidade'].astype(int)\n",
        "amostra_hora['vel_vento'] = amostra_hora['vel_vento'].astype(int)\n",
        "amostra_hora['dir_vento'] = amostra_hora['dir_vento'].astype(int)"
      ],
      "execution_count": null,
      "outputs": []
    },
    {
      "cell_type": "code",
      "metadata": {
        "id": "A1rZmkSrBzh0",
        "colab_type": "code",
        "colab": {
          "base_uri": "https://localhost:8080/"
        },
        "outputId": "e2fb0831-4f3b-45a5-c069-27d06e3c091a"
      },
      "source": [
        "temperatura.columns\n",
        "temperatura.rename(columns= {'Temp':'Temperatura_REDEMET', 'Temp_prototipo':'Temperatura_Prototipo'},inplace=True)\n"
      ],
      "execution_count": null,
      "outputs": [
        {
          "output_type": "stream",
          "text": [
            "/usr/local/lib/python3.6/dist-packages/pandas/core/frame.py:4133: SettingWithCopyWarning: \n",
            "A value is trying to be set on a copy of a slice from a DataFrame\n",
            "\n",
            "See the caveats in the documentation: https://pandas.pydata.org/pandas-docs/stable/user_guide/indexing.html#returning-a-view-versus-a-copy\n",
            "  errors=errors,\n"
          ],
          "name": "stderr"
        }
      ]
    },
    {
      "cell_type": "code",
      "metadata": {
        "id": "4BVAnkiyRBp9",
        "colab_type": "code",
        "colab": {
          "base_uri": "https://localhost:8080/"
        },
        "outputId": "e42e0639-407f-40cd-e198-3fb0a594b6e0"
      },
      "source": [
        "temperatura['Temperatura_Prototipo'] = amostra_hora['temperatura']"
      ],
      "execution_count": null,
      "outputs": [
        {
          "output_type": "stream",
          "text": [
            "/usr/local/lib/python3.6/dist-packages/ipykernel_launcher.py:1: SettingWithCopyWarning: \n",
            "A value is trying to be set on a copy of a slice from a DataFrame.\n",
            "Try using .loc[row_indexer,col_indexer] = value instead\n",
            "\n",
            "See the caveats in the documentation: https://pandas.pydata.org/pandas-docs/stable/user_guide/indexing.html#returning-a-view-versus-a-copy\n",
            "  \"\"\"Entry point for launching an IPython kernel.\n"
          ],
          "name": "stderr"
        }
      ]
    },
    {
      "cell_type": "code",
      "metadata": {
        "id": "NcIeFj7CdLhD",
        "colab_type": "code",
        "colab": {
          "base_uri": "https://localhost:8080/"
        },
        "outputId": "129580e9-f2b8-4fab-e03f-c75b43b39985"
      },
      "source": [
        "for i in range(0,amostra_hora.shape[0]):\n",
        "    temperatura['Temperatura_Prototipo'][i] = amostra_hora['temperatura'][i]\n"
      ],
      "execution_count": null,
      "outputs": [
        {
          "output_type": "stream",
          "text": [
            "/usr/local/lib/python3.6/dist-packages/ipykernel_launcher.py:2: SettingWithCopyWarning: \n",
            "A value is trying to be set on a copy of a slice from a DataFrame\n",
            "\n",
            "See the caveats in the documentation: https://pandas.pydata.org/pandas-docs/stable/user_guide/indexing.html#returning-a-view-versus-a-copy\n",
            "  \n",
            "/usr/local/lib/python3.6/dist-packages/IPython/core/interactiveshell.py:2882: SettingWithCopyWarning: \n",
            "A value is trying to be set on a copy of a slice from a DataFrame\n",
            "\n",
            "See the caveats in the documentation: https://pandas.pydata.org/pandas-docs/stable/user_guide/indexing.html#returning-a-view-versus-a-copy\n",
            "  exec(code_obj, self.user_global_ns, self.user_ns)\n"
          ],
          "name": "stderr"
        }
      ]
    },
    {
      "cell_type": "code",
      "metadata": {
        "id": "uyT4hdgrDUim",
        "colab_type": "code",
        "colab": {
          "base_uri": "https://localhost:8080/"
        },
        "outputId": "4b0c580e-46d5-42a0-be8d-befe97946164"
      },
      "source": [
        "temperatura.head()"
      ],
      "execution_count": null,
      "outputs": [
        {
          "output_type": "execute_result",
          "data": {
            "text/html": [
              "<div>\n",
              "<style scoped>\n",
              "    .dataframe tbody tr th:only-of-type {\n",
              "        vertical-align: middle;\n",
              "    }\n",
              "\n",
              "    .dataframe tbody tr th {\n",
              "        vertical-align: top;\n",
              "    }\n",
              "\n",
              "    .dataframe thead th {\n",
              "        text-align: right;\n",
              "    }\n",
              "</style>\n",
              "<table border=\"1\" class=\"dataframe\">\n",
              "  <thead>\n",
              "    <tr style=\"text-align: right;\">\n",
              "      <th></th>\n",
              "      <th>Data_Hora</th>\n",
              "      <th>Temperatura_REDEMET</th>\n",
              "      <th>Temperatura_Prototipo</th>\n",
              "    </tr>\n",
              "  </thead>\n",
              "  <tbody>\n",
              "    <tr>\n",
              "      <th>0</th>\n",
              "      <td>09/07/2020 13:00</td>\n",
              "      <td>30</td>\n",
              "      <td>30.0</td>\n",
              "    </tr>\n",
              "    <tr>\n",
              "      <th>1</th>\n",
              "      <td>09/07/2020 14:00</td>\n",
              "      <td>30</td>\n",
              "      <td>30.0</td>\n",
              "    </tr>\n",
              "    <tr>\n",
              "      <th>2</th>\n",
              "      <td>09/07/2020 15:00</td>\n",
              "      <td>30</td>\n",
              "      <td>30.0</td>\n",
              "    </tr>\n",
              "    <tr>\n",
              "      <th>3</th>\n",
              "      <td>09/07/2020 16:00</td>\n",
              "      <td>30</td>\n",
              "      <td>30.0</td>\n",
              "    </tr>\n",
              "    <tr>\n",
              "      <th>4</th>\n",
              "      <td>09/07/2020 17:00</td>\n",
              "      <td>30</td>\n",
              "      <td>29.0</td>\n",
              "    </tr>\n",
              "  </tbody>\n",
              "</table>\n",
              "</div>"
            ],
            "text/plain": [
              "          Data_Hora  Temperatura_REDEMET  Temperatura_Prototipo\n",
              "0  09/07/2020 13:00                   30                   30.0\n",
              "1  09/07/2020 14:00                   30                   30.0\n",
              "2  09/07/2020 15:00                   30                   30.0\n",
              "3  09/07/2020 16:00                   30                   30.0\n",
              "4  09/07/2020 17:00                   30                   29.0"
            ]
          },
          "metadata": {
            "tags": []
          },
          "execution_count": 34
        }
      ]
    },
    {
      "cell_type": "markdown",
      "metadata": {
        "id": "Tvnk7EMefntC",
        "colab_type": "text"
      },
      "source": [
        "## Gráfico Boxplot"
      ]
    },
    {
      "cell_type": "code",
      "metadata": {
        "id": "cbKwoYYgd3DK",
        "colab_type": "code",
        "colab": {
          "base_uri": "https://localhost:8080/"
        },
        "outputId": "6e043ad6-cfce-48c0-9f4f-65e68a683a1d"
      },
      "source": [
        "ax = sns.boxplot(data = temperatura[['Temperatura_REDEMET','Temperatura_Prototipo']], orient = 'h',width=0.5)\n",
        "ax.figure.set_size_inches(12,6)\n",
        "ax.set_xlabel('Celsius (ºC)', fontsize = 16)\n",
        "ax.axis(xmin = 0)\n",
        "ax.get_figure().savefig('box_plot.png')\n",
        "\n"
      ],
      "execution_count": null,
      "outputs": [
        {
          "output_type": "display_data",
          "data": {
            "image/png": "[encoded data removed]",
            "text/plain": [
              "<Figure size 864x432 with 1 Axes>"
            ]
          },
          "metadata": {
            "tags": [],
            "needs_background": "light"
          }
        }
      ]
    },
    {
      "cell_type": "markdown",
      "metadata": {
        "id": "NegI-d0CfvIq",
        "colab_type": "text"
      },
      "source": [
        "## Gráfico Distribuição"
      ]
    },
    {
      "cell_type": "code",
      "metadata": {
        "id": "0t8xW_0waYgU",
        "colab_type": "code",
        "colab": {
          "base_uri": "https://localhost:8080/"
        },
        "outputId": "f88ea9e0-272a-46e0-add6-afb983e85a34"
      },
      "source": [
        "f = plt.figure(figsize=(16, 4))\n",
        "gs = f.add_gridspec(1, 2)\n",
        "\n",
        "\n",
        "ax = f.add_subplot(gs[0, 0])\n",
        "ax = sns.distplot(temperatura['Temperatura_Prototipo'])\n",
        "ax.set_title('Protótipo',fontsize = 16)\n",
        "ax.set_ylabel('Percentual')\n",
        "ax.set_xlabel('Temperatura')\n",
        "ax.axis(xmin=0,xmax=50)\n",
        "\n",
        "\n",
        "ax1 = f.add_subplot(gs[0, 1])\n",
        "ax1 = sns.distplot(temperatura['Temperatura_REDEMET'])\n",
        "ax1.set_title(' Plataforma REDEMET',fontsize = 16)\n",
        "ax1.set_ylabel('Percentual')\n",
        "ax1.set_xlabel('Temperatura')\n",
        "ax1.axis(xmin=0,xmax=50)\n",
        "\n",
        "\n",
        "f.savefig(\"dist_temp.png\")"
      ],
      "execution_count": null,
      "outputs": [
        {
          "output_type": "display_data",
          "data": {
            "image/png": "[encoded data removed]",
            "text/plain": [
              "<Figure size 1152x288 with 2 Axes>"
            ]
          },
          "metadata": {
            "tags": [],
            "needs_background": "light"
          }
        }
      ]
    },
    {
      "cell_type": "code",
      "metadata": {
        "id": "64qpXyYSgJ0h",
        "colab_type": "code",
        "colab": {}
      },
      "source": [
        "significancia = 0.05"
      ],
      "execution_count": null,
      "outputs": []
    },
    {
      "cell_type": "code",
      "metadata": {
        "id": "KmzFj7JUgpEJ",
        "colab_type": "code",
        "colab": {
          "base_uri": "https://localhost:8080/"
        },
        "outputId": "04af6e84-88f3-4ce6-c4bc-42e9b11f2257"
      },
      "source": [
        "stats_teste, p_valor = normaltest(temperatura['Temperatura_REDEMET'])\n",
        "print(stats_teste)\n",
        "print(p_valor.round(2))"
      ],
      "execution_count": null,
      "outputs": [
        {
          "output_type": "stream",
          "text": [
            "6.017605948106203\n",
            "0.05\n"
          ],
          "name": "stdout"
        }
      ]
    },
    {
      "cell_type": "code",
      "metadata": {
        "id": "sRO9kZ-yg6ce",
        "colab_type": "code",
        "colab": {
          "base_uri": "https://localhost:8080/"
        },
        "outputId": "3be41ffc-2536-4f4a-8333-ab86391fd437"
      },
      "source": [
        "stats_teste, p_valor = normaltest(temperatura['Temperatura_Prototipo'])\n",
        "print(stats_teste)\n",
        "print(p_valor.round(2))"
      ],
      "execution_count": null,
      "outputs": [
        {
          "output_type": "stream",
          "text": [
            "146.08991626476922\n",
            "0.0\n"
          ],
          "name": "stdout"
        }
      ]
    },
    {
      "cell_type": "code",
      "metadata": {
        "id": "W31Mmb2RThrM",
        "colab_type": "code",
        "colab": {
          "base_uri": "https://localhost:8080/"
        },
        "outputId": "8038362f-fa3d-4fd5-cd96-7b0912324545"
      },
      "source": [
        "temperatura.describe()"
      ],
      "execution_count": null,
      "outputs": [
        {
          "output_type": "execute_result",
          "data": {
            "text/html": [
              "<div>\n",
              "<style scoped>\n",
              "    .dataframe tbody tr th:only-of-type {\n",
              "        vertical-align: middle;\n",
              "    }\n",
              "\n",
              "    .dataframe tbody tr th {\n",
              "        vertical-align: top;\n",
              "    }\n",
              "\n",
              "    .dataframe thead th {\n",
              "        text-align: right;\n",
              "    }\n",
              "</style>\n",
              "<table border=\"1\" class=\"dataframe\">\n",
              "  <thead>\n",
              "    <tr style=\"text-align: right;\">\n",
              "      <th></th>\n",
              "      <th>Temperatura_REDEMET</th>\n",
              "      <th>Temperatura_Prototipo</th>\n",
              "    </tr>\n",
              "  </thead>\n",
              "  <tbody>\n",
              "    <tr>\n",
              "      <th>count</th>\n",
              "      <td>90.000000</td>\n",
              "      <td>90.000000</td>\n",
              "    </tr>\n",
              "    <tr>\n",
              "      <th>mean</th>\n",
              "      <td>27.377778</td>\n",
              "      <td>29.300000</td>\n",
              "    </tr>\n",
              "    <tr>\n",
              "      <th>std</th>\n",
              "      <td>2.276296</td>\n",
              "      <td>2.334163</td>\n",
              "    </tr>\n",
              "    <tr>\n",
              "      <th>min</th>\n",
              "      <td>23.000000</td>\n",
              "      <td>27.000000</td>\n",
              "    </tr>\n",
              "    <tr>\n",
              "      <th>25%</th>\n",
              "      <td>26.000000</td>\n",
              "      <td>28.000000</td>\n",
              "    </tr>\n",
              "    <tr>\n",
              "      <th>50%</th>\n",
              "      <td>27.000000</td>\n",
              "      <td>29.000000</td>\n",
              "    </tr>\n",
              "    <tr>\n",
              "      <th>75%</th>\n",
              "      <td>30.000000</td>\n",
              "      <td>30.000000</td>\n",
              "    </tr>\n",
              "    <tr>\n",
              "      <th>max</th>\n",
              "      <td>33.000000</td>\n",
              "      <td>48.000000</td>\n",
              "    </tr>\n",
              "  </tbody>\n",
              "</table>\n",
              "</div>"
            ],
            "text/plain": [
              "       Temperatura_REDEMET  Temperatura_Prototipo\n",
              "count            90.000000              90.000000\n",
              "mean             27.377778              29.300000\n",
              "std               2.276296               2.334163\n",
              "min              23.000000              27.000000\n",
              "25%              26.000000              28.000000\n",
              "50%              27.000000              29.000000\n",
              "75%              30.000000              30.000000\n",
              "max              33.000000              48.000000"
            ]
          },
          "metadata": {
            "tags": []
          },
          "execution_count": 40
        }
      ]
    },
    {
      "cell_type": "code",
      "metadata": {
        "id": "eyrBboo2D5oF",
        "colab_type": "code",
        "colab": {
          "base_uri": "https://localhost:8080/"
        },
        "outputId": "669f6f13-e639-457c-bd7a-5b71ea29432a"
      },
      "source": [
        "T, p_valor = wilcoxon(temperatura['Temperatura_Prototipo'],temperatura['Temperatura_REDEMET'])\n",
        "print(T)\n",
        "print(p_valor)"
      ],
      "execution_count": null,
      "outputs": [
        {
          "output_type": "stream",
          "text": [
            "280.5\n",
            "4.440931370706263e-11\n"
          ],
          "name": "stdout"
        }
      ]
    },
    {
      "cell_type": "code",
      "metadata": {
        "id": "s_OAI_6gJfLK",
        "colab_type": "code",
        "colab": {
          "base_uri": "https://localhost:8080/"
        },
        "outputId": "893cbbdd-22a0-41ef-9cd0-bd8da8f9caba"
      },
      "source": [
        "T, p_valor = wilcoxon(temperatura['Temperatura_REDEMET'],temperatura['Temperatura_Prototipo'])\n",
        "print(T)\n",
        "print(p_valor.round(11))"
      ],
      "execution_count": null,
      "outputs": [
        {
          "output_type": "stream",
          "text": [
            "280.5\n",
            "4e-11\n"
          ],
          "name": "stdout"
        }
      ]
    },
    {
      "cell_type": "code",
      "metadata": {
        "id": "XPZoj49OEI4w",
        "colab_type": "code",
        "colab": {
          "base_uri": "https://localhost:8080/"
        },
        "outputId": "7d0bd20a-5742-443b-b5a2-924cd2016868"
      },
      "source": [
        "if(p_valor <= significancia):\n",
        "    print('Rejeitar H0')\n",
        "else:\n",
        "    print('Aceitar H0')"
      ],
      "execution_count": null,
      "outputs": [
        {
          "output_type": "stream",
          "text": [
            "Rejeitar H0\n"
          ],
          "name": "stdout"
        }
      ]
    },
    {
      "cell_type": "markdown",
      "metadata": {
        "id": "QEGRSTMXY9kb",
        "colab_type": "text"
      },
      "source": [
        "# Analisando Variável Pressão"
      ]
    },
    {
      "cell_type": "markdown",
      "metadata": {
        "id": "9jTvtBMUf6Ek",
        "colab_type": "text"
      },
      "source": [
        "## Formando dataset de pressão"
      ]
    },
    {
      "cell_type": "code",
      "metadata": {
        "id": "MDvhk6NGZG3t",
        "colab_type": "code",
        "colab": {}
      },
      "source": [
        "pressao = dados_metar[['Data_Hora','Pressão']]"
      ],
      "execution_count": null,
      "outputs": []
    },
    {
      "cell_type": "code",
      "metadata": {
        "id": "Z122jXtXZRVJ",
        "colab_type": "code",
        "colab": {}
      },
      "source": [
        "pressao.rename(mapper = {'Pressão':'P_REDEMET'},axis=1,inplace = True)"
      ],
      "execution_count": null,
      "outputs": []
    },
    {
      "cell_type": "code",
      "metadata": {
        "id": "tng2mg3-ZXTq",
        "colab_type": "code",
        "colab": {}
      },
      "source": [
        "pressao['P_Prototipo'] = amostra_hora['pressao']"
      ],
      "execution_count": null,
      "outputs": []
    },
    {
      "cell_type": "code",
      "metadata": {
        "id": "MVNyCpSgZh52",
        "colab_type": "code",
        "colab": {}
      },
      "source": [
        "for i in range(0,amostra_hora.shape[0]):\n",
        "    pressao['P_Prototipo'][i] = amostra_hora['pressao'][i]\n"
      ],
      "execution_count": null,
      "outputs": []
    },
    {
      "cell_type": "code",
      "metadata": {
        "id": "_MUlVIx1ZphT",
        "colab_type": "code",
        "colab": {
          "base_uri": "https://localhost:8080/",
          "height": 204
        },
        "outputId": "e72c8bc5-a54b-4858-a6f8-ad103fe06e32"
      },
      "source": [
        "pressao.head()\n",
        "\n"
      ],
      "execution_count": null,
      "outputs": [
        {
          "output_type": "execute_result",
          "data": {
            "text/html": [
              "<div>\n",
              "<style scoped>\n",
              "    .dataframe tbody tr th:only-of-type {\n",
              "        vertical-align: middle;\n",
              "    }\n",
              "\n",
              "    .dataframe tbody tr th {\n",
              "        vertical-align: top;\n",
              "    }\n",
              "\n",
              "    .dataframe thead th {\n",
              "        text-align: right;\n",
              "    }\n",
              "</style>\n",
              "<table border=\"1\" class=\"dataframe\">\n",
              "  <thead>\n",
              "    <tr style=\"text-align: right;\">\n",
              "      <th></th>\n",
              "      <th>Data_Hora</th>\n",
              "      <th>P_REDEMET</th>\n",
              "      <th>P_Prototipo</th>\n",
              "    </tr>\n",
              "  </thead>\n",
              "  <tbody>\n",
              "    <tr>\n",
              "      <th>0</th>\n",
              "      <td>2020-09-07 13:00:00</td>\n",
              "      <td>1014</td>\n",
              "      <td>1013.0</td>\n",
              "    </tr>\n",
              "    <tr>\n",
              "      <th>1</th>\n",
              "      <td>2020-09-07 14:00:00</td>\n",
              "      <td>1014</td>\n",
              "      <td>1013.0</td>\n",
              "    </tr>\n",
              "    <tr>\n",
              "      <th>2</th>\n",
              "      <td>2020-09-07 15:00:00</td>\n",
              "      <td>1014</td>\n",
              "      <td>1013.0</td>\n",
              "    </tr>\n",
              "    <tr>\n",
              "      <th>3</th>\n",
              "      <td>2020-09-07 16:00:00</td>\n",
              "      <td>1014</td>\n",
              "      <td>1013.0</td>\n",
              "    </tr>\n",
              "    <tr>\n",
              "      <th>4</th>\n",
              "      <td>2020-09-07 17:00:00</td>\n",
              "      <td>1014</td>\n",
              "      <td>1013.0</td>\n",
              "    </tr>\n",
              "  </tbody>\n",
              "</table>\n",
              "</div>"
            ],
            "text/plain": [
              "            Data_Hora  P_REDEMET  P_Prototipo\n",
              "0 2020-09-07 13:00:00       1014       1013.0\n",
              "1 2020-09-07 14:00:00       1014       1013.0\n",
              "2 2020-09-07 15:00:00       1014       1013.0\n",
              "3 2020-09-07 16:00:00       1014       1013.0\n",
              "4 2020-09-07 17:00:00       1014       1013.0"
            ]
          },
          "metadata": {
            "tags": []
          },
          "execution_count": 55
        }
      ]
    },
    {
      "cell_type": "markdown",
      "metadata": {
        "id": "qON3IGoCgEpI",
        "colab_type": "text"
      },
      "source": [
        "## Gráfico de Distribuição"
      ]
    },
    {
      "cell_type": "code",
      "metadata": {
        "id": "V8tcrmp4aASp",
        "colab_type": "code",
        "colab": {}
      },
      "source": [
        "f = plt.figure(figsize=(16, 4))\n",
        "gs = f.add_gridspec(1, 2)\n",
        "\n",
        "\n",
        "ax = f.add_subplot(gs[0, 0])\n",
        "ax = sns.distplot(pressao['P_Prototipo'])\n",
        "ax.set_title('Protótipo',fontsize = 16)\n",
        "ax.set_xlabel('Pressão')\n",
        "ax.axis(xmin=1000,xmax=1020)\n",
        "\n",
        "ax1 = f.add_subplot(gs[0, 1])\n",
        "ax1 = sns.distplot(pressao['P_REDEMET'])\n",
        "ax1.set_title(' Plataforma REDEMET',fontsize = 16)\n",
        "ax1.set_xlabel('Pressão')\n",
        "ax1.axis(xmin=1000,xmax=1020)\n",
        "\n",
        "\n",
        "f.savefig('dist_pressao.png')\n"
      ],
      "execution_count": null,
      "outputs": []
    },
    {
      "cell_type": "markdown",
      "metadata": {
        "id": "MmgeWVlSgOCy",
        "colab_type": "text"
      },
      "source": [
        "## Gráfico Box Plot\n"
      ]
    },
    {
      "cell_type": "code",
      "metadata": {
        "id": "bpLB4nXGdXFt",
        "colab_type": "code",
        "colab": {
          "base_uri": "https://localhost:8080/",
          "height": 393
        },
        "outputId": "80961ba5-a6e3-4f3c-cb14-a959173f7983"
      },
      "source": [
        "ax = sns.boxplot(data = pressao[['P_REDEMET','P_Prototipo']], orient = 'h',width=0.5)\n",
        "ax.figure.set_size_inches(12,6)\n",
        "ax.set_xlabel('Hectorpascal (HPA)', fontsize = 16)\n",
        "ax.axis(xmin = 1000)\n",
        "ax.get_figure().savefig('box_plot_presao.png')"
      ],
      "execution_count": null,
      "outputs": [
        {
          "output_type": "display_data",
          "data": {
            "image/png": "[encoded data removed]",
            "text/plain": [
              "<Figure size 864x432 with 1 Axes>"
            ]
          },
          "metadata": {
            "tags": [],
            "needs_background": "light"
          }
        }
      ]
    },
    {
      "cell_type": "markdown",
      "metadata": {
        "id": "59ZqXVFRgUrn",
        "colab_type": "text"
      },
      "source": [
        "## Estatisticas Descritivas"
      ]
    },
    {
      "cell_type": "code",
      "metadata": {
        "id": "0IgvHpQPhqSg",
        "colab_type": "code",
        "colab": {
          "base_uri": "https://localhost:8080/",
          "height": 297
        },
        "outputId": "217fa135-2e5e-4fbd-f4a8-ff121460c7f1"
      },
      "source": [
        "pressao.describe()"
      ],
      "execution_count": null,
      "outputs": [
        {
          "output_type": "execute_result",
          "data": {
            "text/html": [
              "<div>\n",
              "<style scoped>\n",
              "    .dataframe tbody tr th:only-of-type {\n",
              "        vertical-align: middle;\n",
              "    }\n",
              "\n",
              "    .dataframe tbody tr th {\n",
              "        vertical-align: top;\n",
              "    }\n",
              "\n",
              "    .dataframe thead th {\n",
              "        text-align: right;\n",
              "    }\n",
              "</style>\n",
              "<table border=\"1\" class=\"dataframe\">\n",
              "  <thead>\n",
              "    <tr style=\"text-align: right;\">\n",
              "      <th></th>\n",
              "      <th>P_REDEMET</th>\n",
              "      <th>P_Prototipo</th>\n",
              "    </tr>\n",
              "  </thead>\n",
              "  <tbody>\n",
              "    <tr>\n",
              "      <th>count</th>\n",
              "      <td>90.000000</td>\n",
              "      <td>90.000000</td>\n",
              "    </tr>\n",
              "    <tr>\n",
              "      <th>mean</th>\n",
              "      <td>1013.444444</td>\n",
              "      <td>1012.433333</td>\n",
              "    </tr>\n",
              "    <tr>\n",
              "      <th>std</th>\n",
              "      <td>1.112858</td>\n",
              "      <td>2.208513</td>\n",
              "    </tr>\n",
              "    <tr>\n",
              "      <th>min</th>\n",
              "      <td>1010.000000</td>\n",
              "      <td>995.000000</td>\n",
              "    </tr>\n",
              "    <tr>\n",
              "      <th>25%</th>\n",
              "      <td>1013.000000</td>\n",
              "      <td>1012.000000</td>\n",
              "    </tr>\n",
              "    <tr>\n",
              "      <th>50%</th>\n",
              "      <td>1014.000000</td>\n",
              "      <td>1013.000000</td>\n",
              "    </tr>\n",
              "    <tr>\n",
              "      <th>75%</th>\n",
              "      <td>1014.000000</td>\n",
              "      <td>1013.000000</td>\n",
              "    </tr>\n",
              "    <tr>\n",
              "      <th>max</th>\n",
              "      <td>1015.000000</td>\n",
              "      <td>1015.000000</td>\n",
              "    </tr>\n",
              "  </tbody>\n",
              "</table>\n",
              "</div>"
            ],
            "text/plain": [
              "         P_REDEMET  P_Prototipo\n",
              "count    90.000000    90.000000\n",
              "mean   1013.444444  1012.433333\n",
              "std       1.112858     2.208513\n",
              "min    1010.000000   995.000000\n",
              "25%    1013.000000  1012.000000\n",
              "50%    1014.000000  1013.000000\n",
              "75%    1014.000000  1013.000000\n",
              "max    1015.000000  1015.000000"
            ]
          },
          "metadata": {
            "tags": []
          },
          "execution_count": 58
        }
      ]
    },
    {
      "cell_type": "markdown",
      "metadata": {
        "id": "R4qkBRH7gdRC",
        "colab_type": "text"
      },
      "source": [
        "## Teste de Normalidade"
      ]
    },
    {
      "cell_type": "code",
      "metadata": {
        "id": "x3iaFn36jcRt",
        "colab_type": "code",
        "colab": {
          "base_uri": "https://localhost:8080/",
          "height": 51
        },
        "outputId": "83ab4e52-d8be-4ef4-802a-a6cbfcfa0772"
      },
      "source": [
        "stats_teste, p_valor = normaltest(pressao['P_Prototipo'])\n",
        "print(stats_teste)\n",
        "print(p_valor.round(2))"
      ],
      "execution_count": null,
      "outputs": [
        {
          "output_type": "stream",
          "text": [
            "142.30883713925857\n",
            "0.0\n"
          ],
          "name": "stdout"
        }
      ]
    },
    {
      "cell_type": "code",
      "metadata": {
        "id": "6rsgfBcPjgcK",
        "colab_type": "code",
        "colab": {
          "base_uri": "https://localhost:8080/",
          "height": 51
        },
        "outputId": "05b9e1aa-d1c0-41b2-cd87-c53468122a13"
      },
      "source": [
        "stats_teste, p_valor = normaltest(pressao['P_REDEMET'])\n",
        "print(stats_teste)\n",
        "print(p_valor.round(2))"
      ],
      "execution_count": null,
      "outputs": [
        {
          "output_type": "stream",
          "text": [
            "5.790792907657219\n",
            "0.06\n"
          ],
          "name": "stdout"
        }
      ]
    },
    {
      "cell_type": "markdown",
      "metadata": {
        "id": "JDoGEhVGgjNK",
        "colab_type": "text"
      },
      "source": [
        "## Teste de Wilcoxon"
      ]
    },
    {
      "cell_type": "code",
      "metadata": {
        "id": "dSjTTEZhkcIM",
        "colab_type": "code",
        "colab": {
          "base_uri": "https://localhost:8080/",
          "height": 51
        },
        "outputId": "a7d59afe-2f44-413d-def5-4b1151e9ead1"
      },
      "source": [
        "T, p_valor = wilcoxon(pressao['P_Prototipo'],pressao['P_REDEMET'])\n",
        "print(T)\n",
        "print(p_valor)"
      ],
      "execution_count": null,
      "outputs": [
        {
          "output_type": "stream",
          "text": [
            "0.0\n",
            "1.726032904017914e-14\n"
          ],
          "name": "stdout"
        }
      ]
    },
    {
      "cell_type": "code",
      "metadata": {
        "id": "oZ6DXpBwkfQU",
        "colab_type": "code",
        "colab": {
          "base_uri": "https://localhost:8080/",
          "height": 34
        },
        "outputId": "e6b83585-dd9c-49e5-cfdf-7c5db2d983cb"
      },
      "source": [
        "if(p_valor <= significancia):\n",
        "    print('Rejeitar H0')\n",
        "else:\n",
        "    print('Aceitar H0')"
      ],
      "execution_count": null,
      "outputs": [
        {
          "output_type": "stream",
          "text": [
            "Rejeitar H0\n"
          ],
          "name": "stdout"
        }
      ]
    },
    {
      "cell_type": "markdown",
      "metadata": {
        "id": "JHZl8ojEJZG0",
        "colab_type": "text"
      },
      "source": [
        "# Analisando Variável Umidade"
      ]
    },
    {
      "cell_type": "markdown",
      "metadata": {
        "id": "qw0Vp2PefNbe",
        "colab_type": "text"
      },
      "source": [
        "## Formando o Dataset"
      ]
    },
    {
      "cell_type": "code",
      "metadata": {
        "id": "k4EXEQiNJbRT",
        "colab_type": "code",
        "colab": {}
      },
      "source": [
        "umidade = dados_metar[['Data_Hora','Umidade']]"
      ],
      "execution_count": null,
      "outputs": []
    },
    {
      "cell_type": "code",
      "metadata": {
        "id": "gB0Dpt6_Jkwz",
        "colab_type": "code",
        "colab": {}
      },
      "source": [
        "umidade.rename(mapper = {'Umidade':'U_REDEMET'},axis=1,inplace = True)"
      ],
      "execution_count": null,
      "outputs": []
    },
    {
      "cell_type": "code",
      "metadata": {
        "id": "VdZMEqcWJtQF",
        "colab_type": "code",
        "colab": {}
      },
      "source": [
        "umidade['U_Prototipo'] = amostra_hora['umidade']"
      ],
      "execution_count": null,
      "outputs": []
    },
    {
      "cell_type": "code",
      "metadata": {
        "id": "w3bKPzXAJ3rX",
        "colab_type": "code",
        "colab": {}
      },
      "source": [
        "for i in range(0,amostra_hora.shape[0]):\n",
        "    umidade['U_Prototipo'][i] = amostra_hora['umidade'][i]"
      ],
      "execution_count": null,
      "outputs": []
    },
    {
      "cell_type": "code",
      "metadata": {
        "id": "CJ0y4qWQJ-kP",
        "colab_type": "code",
        "colab": {
          "base_uri": "https://localhost:8080/",
          "height": 204
        },
        "outputId": "cef94ad1-15ed-477c-9fc3-dd33faebee57"
      },
      "source": [
        "umidade.head()"
      ],
      "execution_count": null,
      "outputs": [
        {
          "output_type": "execute_result",
          "data": {
            "text/html": [
              "<div>\n",
              "<style scoped>\n",
              "    .dataframe tbody tr th:only-of-type {\n",
              "        vertical-align: middle;\n",
              "    }\n",
              "\n",
              "    .dataframe tbody tr th {\n",
              "        vertical-align: top;\n",
              "    }\n",
              "\n",
              "    .dataframe thead th {\n",
              "        text-align: right;\n",
              "    }\n",
              "</style>\n",
              "<table border=\"1\" class=\"dataframe\">\n",
              "  <thead>\n",
              "    <tr style=\"text-align: right;\">\n",
              "      <th></th>\n",
              "      <th>Data_Hora</th>\n",
              "      <th>U_REDEMET</th>\n",
              "      <th>U_Prototipo</th>\n",
              "    </tr>\n",
              "  </thead>\n",
              "  <tbody>\n",
              "    <tr>\n",
              "      <th>0</th>\n",
              "      <td>2020-09-07 13:00:00</td>\n",
              "      <td>70</td>\n",
              "      <td>77.0</td>\n",
              "    </tr>\n",
              "    <tr>\n",
              "      <th>1</th>\n",
              "      <td>2020-09-07 14:00:00</td>\n",
              "      <td>70</td>\n",
              "      <td>78.0</td>\n",
              "    </tr>\n",
              "    <tr>\n",
              "      <th>2</th>\n",
              "      <td>2020-09-07 15:00:00</td>\n",
              "      <td>79</td>\n",
              "      <td>80.0</td>\n",
              "    </tr>\n",
              "    <tr>\n",
              "      <th>3</th>\n",
              "      <td>2020-09-07 16:00:00</td>\n",
              "      <td>74</td>\n",
              "      <td>80.0</td>\n",
              "    </tr>\n",
              "    <tr>\n",
              "      <th>4</th>\n",
              "      <td>2020-09-07 17:00:00</td>\n",
              "      <td>74</td>\n",
              "      <td>79.0</td>\n",
              "    </tr>\n",
              "  </tbody>\n",
              "</table>\n",
              "</div>"
            ],
            "text/plain": [
              "            Data_Hora  U_REDEMET  U_Prototipo\n",
              "0 2020-09-07 13:00:00         70         77.0\n",
              "1 2020-09-07 14:00:00         70         78.0\n",
              "2 2020-09-07 15:00:00         79         80.0\n",
              "3 2020-09-07 16:00:00         74         80.0\n",
              "4 2020-09-07 17:00:00         74         79.0"
            ]
          },
          "metadata": {
            "tags": []
          },
          "execution_count": 70
        }
      ]
    },
    {
      "cell_type": "markdown",
      "metadata": {
        "id": "JRVShJoefD7I",
        "colab_type": "text"
      },
      "source": [
        "## Gráfico de distribuição"
      ]
    },
    {
      "cell_type": "code",
      "metadata": {
        "id": "grcBQtutKFvr",
        "colab_type": "code",
        "colab": {
          "base_uri": "https://localhost:8080/",
          "height": 298
        },
        "outputId": "cd9acced-1ec7-4b0d-b0e6-1517d1721f34"
      },
      "source": [
        "f = plt.figure(figsize=(16, 4))\n",
        "gs = f.add_gridspec(1, 2)\n",
        "\n",
        "\n",
        "ax = f.add_subplot(gs[0, 0])\n",
        "ax = sns.distplot(umidade['U_Prototipo'])\n",
        "ax.set_title('Protótipo',fontsize = 16)\n",
        "ax.set_xlabel('Umidade')\n",
        "ax.axis(xmin=0,xmax=100)\n",
        "\n",
        "ax1 = f.add_subplot(gs[0, 1])\n",
        "ax1 = sns.distplot(umidade['U_REDEMET'])\n",
        "ax1.set_title(' Plataforma REDEMET',fontsize = 16)\n",
        "ax1.set_xlabel('Umidade')\n",
        "ax1.axis(xmin=0,xmax=100)\n",
        "\n",
        "\n",
        "f.savefig('dist_umidade.png')"
      ],
      "execution_count": null,
      "outputs": [
        {
          "output_type": "display_data",
          "data": {
            "image/png": "[encoded data removed]",
            "text/plain": [
              "<Figure size 1152x288 with 2 Axes>"
            ]
          },
          "metadata": {
            "tags": [],
            "needs_background": "light"
          }
        }
      ]
    },
    {
      "cell_type": "markdown",
      "metadata": {
        "id": "SNiAQG1me-2Z",
        "colab_type": "text"
      },
      "source": [
        "## Gráfico BoxPlot"
      ]
    },
    {
      "cell_type": "code",
      "metadata": {
        "id": "DFdqRqqIKboD",
        "colab_type": "code",
        "colab": {
          "base_uri": "https://localhost:8080/",
          "height": 393
        },
        "outputId": "c114edc1-f1af-4610-ab3a-226f8fd32ac9"
      },
      "source": [
        "ax = sns.boxplot(data = umidade[['U_REDEMET','U_Prototipo']], orient = 'h',width=0.5)\n",
        "ax.figure.set_size_inches(12,6)\n",
        "ax.set_xlabel('Percentual %', fontsize = 16)\n",
        "ax.axis(xmin = 0)\n",
        "ax.get_figure().savefig('box_plot_umidade.png')"
      ],
      "execution_count": null,
      "outputs": [
        {
          "output_type": "display_data",
          "data": {
            "image/png": "[encoded data removed]",
            "text/plain": [
              "<Figure size 864x432 with 1 Axes>"
            ]
          },
          "metadata": {
            "tags": [],
            "needs_background": "light"
          }
        }
      ]
    },
    {
      "cell_type": "markdown",
      "metadata": {
        "id": "F9g1lKf1e5_d",
        "colab_type": "text"
      },
      "source": [
        "## Estatísticas Descritivas"
      ]
    },
    {
      "cell_type": "code",
      "metadata": {
        "id": "NSs_rJcJKpW2",
        "colab_type": "code",
        "colab": {
          "base_uri": "https://localhost:8080/",
          "height": 297
        },
        "outputId": "05e316ff-8aa4-4094-9b16-2dfd2c3d0e4e"
      },
      "source": [
        "umidade.describe()"
      ],
      "execution_count": null,
      "outputs": [
        {
          "output_type": "execute_result",
          "data": {
            "text/html": [
              "<div>\n",
              "<style scoped>\n",
              "    .dataframe tbody tr th:only-of-type {\n",
              "        vertical-align: middle;\n",
              "    }\n",
              "\n",
              "    .dataframe tbody tr th {\n",
              "        vertical-align: top;\n",
              "    }\n",
              "\n",
              "    .dataframe thead th {\n",
              "        text-align: right;\n",
              "    }\n",
              "</style>\n",
              "<table border=\"1\" class=\"dataframe\">\n",
              "  <thead>\n",
              "    <tr style=\"text-align: right;\">\n",
              "      <th></th>\n",
              "      <th>U_REDEMET</th>\n",
              "      <th>U_Prototipo</th>\n",
              "    </tr>\n",
              "  </thead>\n",
              "  <tbody>\n",
              "    <tr>\n",
              "      <th>count</th>\n",
              "      <td>90.000000</td>\n",
              "      <td>90.000000</td>\n",
              "    </tr>\n",
              "    <tr>\n",
              "      <th>mean</th>\n",
              "      <td>73.844444</td>\n",
              "      <td>77.677778</td>\n",
              "    </tr>\n",
              "    <tr>\n",
              "      <th>std</th>\n",
              "      <td>9.160137</td>\n",
              "      <td>7.401530</td>\n",
              "    </tr>\n",
              "    <tr>\n",
              "      <th>min</th>\n",
              "      <td>52.000000</td>\n",
              "      <td>55.000000</td>\n",
              "    </tr>\n",
              "    <tr>\n",
              "      <th>25%</th>\n",
              "      <td>66.000000</td>\n",
              "      <td>72.250000</td>\n",
              "    </tr>\n",
              "    <tr>\n",
              "      <th>50%</th>\n",
              "      <td>74.000000</td>\n",
              "      <td>78.500000</td>\n",
              "    </tr>\n",
              "    <tr>\n",
              "      <th>75%</th>\n",
              "      <td>79.000000</td>\n",
              "      <td>83.000000</td>\n",
              "    </tr>\n",
              "    <tr>\n",
              "      <th>max</th>\n",
              "      <td>89.000000</td>\n",
              "      <td>90.000000</td>\n",
              "    </tr>\n",
              "  </tbody>\n",
              "</table>\n",
              "</div>"
            ],
            "text/plain": [
              "       U_REDEMET  U_Prototipo\n",
              "count  90.000000    90.000000\n",
              "mean   73.844444    77.677778\n",
              "std     9.160137     7.401530\n",
              "min    52.000000    55.000000\n",
              "25%    66.000000    72.250000\n",
              "50%    74.000000    78.500000\n",
              "75%    79.000000    83.000000\n",
              "max    89.000000    90.000000"
            ]
          },
          "metadata": {
            "tags": []
          },
          "execution_count": 78
        }
      ]
    },
    {
      "cell_type": "markdown",
      "metadata": {
        "id": "aCST6Wvjez3q",
        "colab_type": "text"
      },
      "source": [
        "## Teste de Normalidade"
      ]
    },
    {
      "cell_type": "code",
      "metadata": {
        "id": "1hQXmX1BL_rr",
        "colab_type": "code",
        "colab": {
          "base_uri": "https://localhost:8080/",
          "height": 51
        },
        "outputId": "c211f7ac-0aab-4c42-fbb2-20178dba5db9"
      },
      "source": [
        "stats_teste, p_valor = normaltest(umidade['U_Prototipo'])\n",
        "print(stats_teste)\n",
        "print(p_valor.round(2))"
      ],
      "execution_count": null,
      "outputs": [
        {
          "output_type": "stream",
          "text": [
            "6.578816500594281\n",
            "0.04\n"
          ],
          "name": "stdout"
        }
      ]
    },
    {
      "cell_type": "code",
      "metadata": {
        "id": "251PC-GmMCxK",
        "colab_type": "code",
        "colab": {
          "base_uri": "https://localhost:8080/",
          "height": 51
        },
        "outputId": "64c1b93e-5758-4752-96d1-9c15ef8264a7"
      },
      "source": [
        "stats_teste, p_valor = normaltest(umidade['U_REDEMET'])\n",
        "print(stats_teste)\n",
        "print(p_valor.round(2))"
      ],
      "execution_count": null,
      "outputs": [
        {
          "output_type": "stream",
          "text": [
            "5.580508685672035\n",
            "0.06\n"
          ],
          "name": "stdout"
        }
      ]
    },
    {
      "cell_type": "markdown",
      "metadata": {
        "id": "J3ePLWxIev64",
        "colab_type": "text"
      },
      "source": [
        "## Teste de Wilcoxon"
      ]
    },
    {
      "cell_type": "code",
      "metadata": {
        "id": "RBAXzmFpMIjV",
        "colab_type": "code",
        "colab": {
          "base_uri": "https://localhost:8080/",
          "height": 51
        },
        "outputId": "e9bc3b6e-1c0f-4980-cddd-5c0ddccf0c3f"
      },
      "source": [
        "T, p_valor = wilcoxon(umidade['U_Prototipo'],umidade['U_REDEMET'])\n",
        "print(T)\n",
        "print(p_valor)"
      ],
      "execution_count": null,
      "outputs": [
        {
          "output_type": "stream",
          "text": [
            "250.5\n",
            "2.945317985626645e-11\n"
          ],
          "name": "stdout"
        }
      ]
    },
    {
      "cell_type": "code",
      "metadata": {
        "id": "2vVxrxoyMY0o",
        "colab_type": "code",
        "colab": {
          "base_uri": "https://localhost:8080/",
          "height": 34
        },
        "outputId": "44a73ea4-e310-4ac6-948f-49cb79295dca"
      },
      "source": [
        "if(p_valor <= significancia):\n",
        "    print('Rejeitar H0')\n",
        "else:\n",
        "    print('Aceitar H0')"
      ],
      "execution_count": null,
      "outputs": [
        {
          "output_type": "stream",
          "text": [
            "Rejeitar H0\n"
          ],
          "name": "stdout"
        }
      ]
    },
    {
      "cell_type": "markdown",
      "metadata": {
        "id": "T7vqVbrGbv_w",
        "colab_type": "text"
      },
      "source": [
        "# Analisando Varíavel Direção do Vento"
      ]
    },
    {
      "cell_type": "markdown",
      "metadata": {
        "id": "ujt9F2esejml",
        "colab_type": "text"
      },
      "source": [
        "## Formando Dataset para análise "
      ]
    },
    {
      "cell_type": "code",
      "metadata": {
        "id": "969X9Uh1cB80",
        "colab_type": "code",
        "colab": {}
      },
      "source": [
        "dir_vento = dados_metar[['Data_Hora','Dir Vento']]"
      ],
      "execution_count": null,
      "outputs": []
    },
    {
      "cell_type": "code",
      "metadata": {
        "id": "T7Zvd8JOcISz",
        "colab_type": "code",
        "colab": {
          "base_uri": "https://localhost:8080/",
          "height": 102
        },
        "outputId": "af36e69e-4627-470e-f796-b968ec4c8e57"
      },
      "source": [
        "dir_vento.rename(mapper = {'Dir Vento':'DV_REDEMET'},axis=1,inplace = True)"
      ],
      "execution_count": null,
      "outputs": [
        {
          "output_type": "stream",
          "text": [
            "/usr/local/lib/python3.6/dist-packages/pandas/core/frame.py:4133: SettingWithCopyWarning: \n",
            "A value is trying to be set on a copy of a slice from a DataFrame\n",
            "\n",
            "See the caveats in the documentation: https://pandas.pydata.org/pandas-docs/stable/user_guide/indexing.html#returning-a-view-versus-a-copy\n",
            "  errors=errors,\n"
          ],
          "name": "stderr"
        }
      ]
    },
    {
      "cell_type": "code",
      "metadata": {
        "id": "wmLzh4cbcNzV",
        "colab_type": "code",
        "colab": {
          "base_uri": "https://localhost:8080/",
          "height": 119
        },
        "outputId": "c4c73946-2f39-43eb-f0b8-69224e9154b5"
      },
      "source": [
        "dir_vento['DV_Prototipo'] = amostra_hora['dir_vento']"
      ],
      "execution_count": null,
      "outputs": [
        {
          "output_type": "stream",
          "text": [
            "/usr/local/lib/python3.6/dist-packages/ipykernel_launcher.py:1: SettingWithCopyWarning: \n",
            "A value is trying to be set on a copy of a slice from a DataFrame.\n",
            "Try using .loc[row_indexer,col_indexer] = value instead\n",
            "\n",
            "See the caveats in the documentation: https://pandas.pydata.org/pandas-docs/stable/user_guide/indexing.html#returning-a-view-versus-a-copy\n",
            "  \"\"\"Entry point for launching an IPython kernel.\n"
          ],
          "name": "stderr"
        }
      ]
    },
    {
      "cell_type": "code",
      "metadata": {
        "id": "D54aIrstcjqC",
        "colab_type": "code",
        "colab": {
          "base_uri": "https://localhost:8080/",
          "height": 187
        },
        "outputId": "bf7d7747-4874-4776-9155-caf93f8d9c2b"
      },
      "source": [
        "for i in range(0,amostra_hora.shape[0]):\n",
        "    dir_vento['DV_Prototipo'][i] = amostra_hora['dir_vento'][i]"
      ],
      "execution_count": null,
      "outputs": [
        {
          "output_type": "stream",
          "text": [
            "/usr/local/lib/python3.6/dist-packages/ipykernel_launcher.py:2: SettingWithCopyWarning: \n",
            "A value is trying to be set on a copy of a slice from a DataFrame\n",
            "\n",
            "See the caveats in the documentation: https://pandas.pydata.org/pandas-docs/stable/user_guide/indexing.html#returning-a-view-versus-a-copy\n",
            "  \n",
            "/usr/local/lib/python3.6/dist-packages/IPython/core/interactiveshell.py:2882: SettingWithCopyWarning: \n",
            "A value is trying to be set on a copy of a slice from a DataFrame\n",
            "\n",
            "See the caveats in the documentation: https://pandas.pydata.org/pandas-docs/stable/user_guide/indexing.html#returning-a-view-versus-a-copy\n",
            "  exec(code_obj, self.user_global_ns, self.user_ns)\n"
          ],
          "name": "stderr"
        }
      ]
    },
    {
      "cell_type": "code",
      "metadata": {
        "id": "JXntBX3zcs8x",
        "colab_type": "code",
        "colab": {
          "base_uri": "https://localhost:8080/",
          "height": 119
        },
        "outputId": "96d9f57f-7b49-401f-b265-ad12c8ef34e9"
      },
      "source": [
        "dir_vento['DV_Prototipo'] = dir_vento['DV_Prototipo'].round(0)"
      ],
      "execution_count": null,
      "outputs": [
        {
          "output_type": "stream",
          "text": [
            "/usr/local/lib/python3.6/dist-packages/ipykernel_launcher.py:1: SettingWithCopyWarning: \n",
            "A value is trying to be set on a copy of a slice from a DataFrame.\n",
            "Try using .loc[row_indexer,col_indexer] = value instead\n",
            "\n",
            "See the caveats in the documentation: https://pandas.pydata.org/pandas-docs/stable/user_guide/indexing.html#returning-a-view-versus-a-copy\n",
            "  \"\"\"Entry point for launching an IPython kernel.\n"
          ],
          "name": "stderr"
        }
      ]
    },
    {
      "cell_type": "code",
      "metadata": {
        "id": "v6y6O49lc9JG",
        "colab_type": "code",
        "colab": {
          "base_uri": "https://localhost:8080/",
          "height": 204
        },
        "outputId": "9aab725f-0190-4e22-a260-29a0a34b1b10"
      },
      "source": [
        "dir_vento.head()"
      ],
      "execution_count": null,
      "outputs": [
        {
          "output_type": "execute_result",
          "data": {
            "text/html": [
              "<div>\n",
              "<style scoped>\n",
              "    .dataframe tbody tr th:only-of-type {\n",
              "        vertical-align: middle;\n",
              "    }\n",
              "\n",
              "    .dataframe tbody tr th {\n",
              "        vertical-align: top;\n",
              "    }\n",
              "\n",
              "    .dataframe thead th {\n",
              "        text-align: right;\n",
              "    }\n",
              "</style>\n",
              "<table border=\"1\" class=\"dataframe\">\n",
              "  <thead>\n",
              "    <tr style=\"text-align: right;\">\n",
              "      <th></th>\n",
              "      <th>Data_Hora</th>\n",
              "      <th>DV_REDEMET</th>\n",
              "      <th>DV_Prototipo</th>\n",
              "    </tr>\n",
              "  </thead>\n",
              "  <tbody>\n",
              "    <tr>\n",
              "      <th>0</th>\n",
              "      <td>09/07/2020 13:00</td>\n",
              "      <td>80</td>\n",
              "      <td>103.0</td>\n",
              "    </tr>\n",
              "    <tr>\n",
              "      <th>1</th>\n",
              "      <td>09/07/2020 14:00</td>\n",
              "      <td>90</td>\n",
              "      <td>98.0</td>\n",
              "    </tr>\n",
              "    <tr>\n",
              "      <th>2</th>\n",
              "      <td>09/07/2020 15:00</td>\n",
              "      <td>70</td>\n",
              "      <td>104.0</td>\n",
              "    </tr>\n",
              "    <tr>\n",
              "      <th>3</th>\n",
              "      <td>09/07/2020 16:00</td>\n",
              "      <td>60</td>\n",
              "      <td>99.0</td>\n",
              "    </tr>\n",
              "    <tr>\n",
              "      <th>4</th>\n",
              "      <td>09/07/2020 17:00</td>\n",
              "      <td>80</td>\n",
              "      <td>109.0</td>\n",
              "    </tr>\n",
              "  </tbody>\n",
              "</table>\n",
              "</div>"
            ],
            "text/plain": [
              "          Data_Hora  DV_REDEMET  DV_Prototipo\n",
              "0  09/07/2020 13:00          80         103.0\n",
              "1  09/07/2020 14:00          90          98.0\n",
              "2  09/07/2020 15:00          70         104.0\n",
              "3  09/07/2020 16:00          60          99.0\n",
              "4  09/07/2020 17:00          80         109.0"
            ]
          },
          "metadata": {
            "tags": []
          },
          "execution_count": 49
        }
      ]
    },
    {
      "cell_type": "markdown",
      "metadata": {
        "id": "sBJkHUMXef-0",
        "colab_type": "text"
      },
      "source": [
        "## Gráfico de distribuição"
      ]
    },
    {
      "cell_type": "code",
      "metadata": {
        "id": "mSTI8Du0dXvk",
        "colab_type": "code",
        "colab": {
          "base_uri": "https://localhost:8080/",
          "height": 299
        },
        "outputId": "2c96968b-c199-463d-aeb3-babbd12aea62"
      },
      "source": [
        "f = plt.figure(figsize=(16, 4))\n",
        "gs = f.add_gridspec(1, 2)\n",
        "\n",
        "\n",
        "ax = f.add_subplot(gs[0, 0])\n",
        "ax = sns.distplot(dir_vento['DV_Prototipo'])\n",
        "ax.set_title('Protótipo',fontsize = 16)\n",
        "ax.axis(xmin=0,xmax=360)\n",
        "\n",
        "ax1 = f.add_subplot(gs[0, 1])\n",
        "ax1 = sns.distplot(dir_vento['DV_REDEMET'])\n",
        "ax1.set_title(' Plataforma REDEMET',fontsize = 16)\n",
        "ax1.axis(xmin=0,xmax=360)\n",
        "\n",
        "f.savefig('dist_dirvento.png')"
      ],
      "execution_count": null,
      "outputs": [
        {
          "output_type": "display_data",
          "data": {
            "image/png": "[encoded data removed]",
            "text/plain": [
              "<Figure size 1152x288 with 2 Axes>"
            ]
          },
          "metadata": {
            "tags": [],
            "needs_background": "light"
          }
        }
      ]
    },
    {
      "cell_type": "markdown",
      "metadata": {
        "id": "A4R3izebeX0H",
        "colab_type": "text"
      },
      "source": [
        "## Gráfico Box Plot"
      ]
    },
    {
      "cell_type": "code",
      "metadata": {
        "id": "tkqPiYzjdwea",
        "colab_type": "code",
        "colab": {
          "base_uri": "https://localhost:8080/",
          "height": 374
        },
        "outputId": "78cdd959-c665-4c48-b43f-0637d770b95e"
      },
      "source": [
        "ax = sns.boxplot(data = dir_vento[['DV_REDEMET','DV_Prototipo']], orient = 'h',width=0.5)\n",
        "ax.figure.set_size_inches(12,6)\n",
        "ax.axis(xmin = 0)\n",
        "ax.get_figure().savefig('box_plot_dirvento.png')"
      ],
      "execution_count": null,
      "outputs": [
        {
          "output_type": "display_data",
          "data": {
            "image/png": "[encoded data removed]",
            "text/plain": [
              "<Figure size 864x432 with 1 Axes>"
            ]
          },
          "metadata": {
            "tags": [],
            "needs_background": "light"
          }
        }
      ]
    },
    {
      "cell_type": "markdown",
      "metadata": {
        "id": "niikHZDseSpt",
        "colab_type": "text"
      },
      "source": [
        "## Estatísticas Descritivas"
      ]
    },
    {
      "cell_type": "code",
      "metadata": {
        "id": "ldXjeaBSeFqM",
        "colab_type": "code",
        "colab": {
          "base_uri": "https://localhost:8080/",
          "height": 297
        },
        "outputId": "45c68ec5-e46c-40a7-a406-4daeca860e81"
      },
      "source": [
        "dir_vento.describe()"
      ],
      "execution_count": null,
      "outputs": [
        {
          "output_type": "execute_result",
          "data": {
            "text/html": [
              "<div>\n",
              "<style scoped>\n",
              "    .dataframe tbody tr th:only-of-type {\n",
              "        vertical-align: middle;\n",
              "    }\n",
              "\n",
              "    .dataframe tbody tr th {\n",
              "        vertical-align: top;\n",
              "    }\n",
              "\n",
              "    .dataframe thead th {\n",
              "        text-align: right;\n",
              "    }\n",
              "</style>\n",
              "<table border=\"1\" class=\"dataframe\">\n",
              "  <thead>\n",
              "    <tr style=\"text-align: right;\">\n",
              "      <th></th>\n",
              "      <th>DV_REDEMET</th>\n",
              "      <th>DV_Prototipo</th>\n",
              "    </tr>\n",
              "  </thead>\n",
              "  <tbody>\n",
              "    <tr>\n",
              "      <th>count</th>\n",
              "      <td>90.000000</td>\n",
              "      <td>90.000000</td>\n",
              "    </tr>\n",
              "    <tr>\n",
              "      <th>mean</th>\n",
              "      <td>109.666667</td>\n",
              "      <td>117.244444</td>\n",
              "    </tr>\n",
              "    <tr>\n",
              "      <th>std</th>\n",
              "      <td>29.659112</td>\n",
              "      <td>18.826416</td>\n",
              "    </tr>\n",
              "    <tr>\n",
              "      <th>min</th>\n",
              "      <td>60.000000</td>\n",
              "      <td>90.000000</td>\n",
              "    </tr>\n",
              "    <tr>\n",
              "      <th>25%</th>\n",
              "      <td>90.000000</td>\n",
              "      <td>105.000000</td>\n",
              "    </tr>\n",
              "    <tr>\n",
              "      <th>50%</th>\n",
              "      <td>100.000000</td>\n",
              "      <td>111.000000</td>\n",
              "    </tr>\n",
              "    <tr>\n",
              "      <th>75%</th>\n",
              "      <td>140.000000</td>\n",
              "      <td>125.000000</td>\n",
              "    </tr>\n",
              "    <tr>\n",
              "      <th>max</th>\n",
              "      <td>190.000000</td>\n",
              "      <td>180.000000</td>\n",
              "    </tr>\n",
              "  </tbody>\n",
              "</table>\n",
              "</div>"
            ],
            "text/plain": [
              "       DV_REDEMET  DV_Prototipo\n",
              "count   90.000000     90.000000\n",
              "mean   109.666667    117.244444\n",
              "std     29.659112     18.826416\n",
              "min     60.000000     90.000000\n",
              "25%     90.000000    105.000000\n",
              "50%    100.000000    111.000000\n",
              "75%    140.000000    125.000000\n",
              "max    190.000000    180.000000"
            ]
          },
          "metadata": {
            "tags": []
          },
          "execution_count": 139
        }
      ]
    },
    {
      "cell_type": "markdown",
      "metadata": {
        "id": "lW2g7uYpeOmK",
        "colab_type": "text"
      },
      "source": [
        "## Teste de Normalidade\n"
      ]
    },
    {
      "cell_type": "code",
      "metadata": {
        "id": "zEaUyQAcZ79Q",
        "colab_type": "code",
        "colab": {
          "base_uri": "https://localhost:8080/",
          "height": 111
        },
        "outputId": "5bbc3e12-a3c2-491e-ab65-683f396bdc6c"
      },
      "source": [
        "dir_vento.corr()"
      ],
      "execution_count": null,
      "outputs": [
        {
          "output_type": "execute_result",
          "data": {
            "text/html": [
              "<div>\n",
              "<style scoped>\n",
              "    .dataframe tbody tr th:only-of-type {\n",
              "        vertical-align: middle;\n",
              "    }\n",
              "\n",
              "    .dataframe tbody tr th {\n",
              "        vertical-align: top;\n",
              "    }\n",
              "\n",
              "    .dataframe thead th {\n",
              "        text-align: right;\n",
              "    }\n",
              "</style>\n",
              "<table border=\"1\" class=\"dataframe\">\n",
              "  <thead>\n",
              "    <tr style=\"text-align: right;\">\n",
              "      <th></th>\n",
              "      <th>DV_REDEMET</th>\n",
              "      <th>DV_Prototipo</th>\n",
              "    </tr>\n",
              "  </thead>\n",
              "  <tbody>\n",
              "    <tr>\n",
              "      <th>DV_REDEMET</th>\n",
              "      <td>1.0000</td>\n",
              "      <td>0.5271</td>\n",
              "    </tr>\n",
              "    <tr>\n",
              "      <th>DV_Prototipo</th>\n",
              "      <td>0.5271</td>\n",
              "      <td>1.0000</td>\n",
              "    </tr>\n",
              "  </tbody>\n",
              "</table>\n",
              "</div>"
            ],
            "text/plain": [
              "              DV_REDEMET  DV_Prototipo\n",
              "DV_REDEMET        1.0000        0.5271\n",
              "DV_Prototipo      0.5271        1.0000"
            ]
          },
          "metadata": {
            "tags": []
          },
          "execution_count": 50
        }
      ]
    },
    {
      "cell_type": "code",
      "metadata": {
        "id": "jcE62pQyeLaR",
        "colab_type": "code",
        "colab": {
          "base_uri": "https://localhost:8080/",
          "height": 68
        },
        "outputId": "b44dd0b4-fcfb-4f89-e515-adedc7dd0a00"
      },
      "source": [
        "t,p_valor = normaltest(dir_vento['DV_Prototipo'])\n",
        "print(T)\n",
        "print(p_valor)\n",
        "\n",
        "if(p_valor <= significancia):\n",
        "    print('Não é Normal')\n",
        "else:\n",
        "    print('É Normal')"
      ],
      "execution_count": null,
      "outputs": [
        {
          "output_type": "stream",
          "text": [
            "250.5\n",
            "3.1051148404780604e-07\n",
            "Não é Normal\n"
          ],
          "name": "stdout"
        }
      ]
    },
    {
      "cell_type": "code",
      "metadata": {
        "id": "szDlX1xfpWJl",
        "colab_type": "code",
        "colab": {
          "base_uri": "https://localhost:8080/",
          "height": 68
        },
        "outputId": "cfb63b07-993e-4112-d4d0-1ce2004a01ad"
      },
      "source": [
        "t,p_valor = normaltest(dir_vento['DV_REDEMET'])\n",
        "print(T)\n",
        "print(p_valor)\n",
        "\n",
        "if(p_valor <= significancia):\n",
        "    print('Não é Normal')\n",
        "else:\n",
        "    print('É Normal')"
      ],
      "execution_count": null,
      "outputs": [
        {
          "output_type": "stream",
          "text": [
            "250.5\n",
            "0.004149602418006602\n",
            "Não é Normal\n"
          ],
          "name": "stdout"
        }
      ]
    },
    {
      "cell_type": "markdown",
      "metadata": {
        "id": "iumjH1lOp1ak",
        "colab_type": "text"
      },
      "source": [
        "## Teste de Wilcoxon"
      ]
    },
    {
      "cell_type": "code",
      "metadata": {
        "id": "b6YiuFObp4PO",
        "colab_type": "code",
        "colab": {
          "base_uri": "https://localhost:8080/",
          "height": 68
        },
        "outputId": "4127de9e-d87d-4210-c456-487f7c5777d7"
      },
      "source": [
        "T,p_valor = wilcoxon(dir_vento['DV_Prototipo'],dir_vento['DV_REDEMET'])\n",
        "print(T)\n",
        "print(p_valor)\n",
        "\n",
        "if(p_valor <= significancia):\n",
        "  print('Rejeita H0')\n",
        "else:\n",
        "  print('Ajeita H0')"
      ],
      "execution_count": null,
      "outputs": [
        {
          "output_type": "stream",
          "text": [
            "1213.5\n",
            "0.0007901324680919929\n",
            "Rejeita H0\n"
          ],
          "name": "stdout"
        }
      ]
    },
    {
      "cell_type": "markdown",
      "metadata": {
        "id": "4opqgD5qdF43",
        "colab_type": "text"
      },
      "source": [
        "# Análise da Velocidade do Vento"
      ]
    },
    {
      "cell_type": "code",
      "metadata": {
        "id": "b3UuwMeedMr9",
        "colab_type": "code",
        "colab": {}
      },
      "source": [
        "vel_vento = dados_metar[['Data_Hora','Vel Vento']]"
      ],
      "execution_count": null,
      "outputs": []
    },
    {
      "cell_type": "code",
      "metadata": {
        "id": "e3_zLjwcdP-e",
        "colab_type": "code",
        "colab": {
          "base_uri": "https://localhost:8080/",
          "height": 238
        },
        "outputId": "9e3af2b8-5c86-40b2-e756-267fc259d79b"
      },
      "source": [
        "amostra_hora['vel_vento']"
      ],
      "execution_count": null,
      "outputs": [
        {
          "output_type": "execute_result",
          "data": {
            "text/plain": [
              "created_at\n",
              "2020-07-09 13:00:00    0\n",
              "2020-07-09 14:00:00    0\n",
              "2020-07-09 15:00:00    0\n",
              "2020-07-09 16:00:00    0\n",
              "2020-07-09 17:00:00    0\n",
              "                      ..\n",
              "2020-07-13 02:00:00    0\n",
              "2020-07-13 03:00:00    0\n",
              "2020-07-13 04:00:00    0\n",
              "2020-07-13 05:00:00    0\n",
              "2020-07-13 06:00:00    0\n",
              "Freq: H, Name: vel_vento, Length: 90, dtype: int64"
            ]
          },
          "metadata": {
            "tags": []
          },
          "execution_count": 54
        }
      ]
    },
    {
      "cell_type": "code",
      "metadata": {
        "id": "QrlzB6VcerXf",
        "colab_type": "code",
        "colab": {
          "base_uri": "https://localhost:8080/",
          "height": 34
        },
        "outputId": "a0216336-c5ce-4980-ee28-e7cee887b86c"
      },
      "source": [
        "vel_vento.index.equals(amostra_hora.index) \n",
        "\n"
      ],
      "execution_count": null,
      "outputs": [
        {
          "output_type": "execute_result",
          "data": {
            "text/plain": [
              "False"
            ]
          },
          "metadata": {
            "tags": []
          },
          "execution_count": 65
        }
      ]
    },
    {
      "cell_type": "code",
      "metadata": {
        "id": "xGZFnLM2gakk",
        "colab_type": "code",
        "colab": {
          "base_uri": "https://localhost:8080/",
          "height": 34
        },
        "outputId": "c0ec6a41-9289-44cb-d281-a8a6f068d171"
      },
      "source": [
        "vel_vento.index.intersection(amostra_hora.index).empty "
      ],
      "execution_count": null,
      "outputs": [
        {
          "output_type": "execute_result",
          "data": {
            "text/plain": [
              "True"
            ]
          },
          "metadata": {
            "tags": []
          },
          "execution_count": 67
        }
      ]
    },
    {
      "cell_type": "code",
      "metadata": {
        "id": "Rj9AuiyJgiQr",
        "colab_type": "code",
        "colab": {}
      },
      "source": [
        "amostra_hora.index = vel_vento.index"
      ],
      "execution_count": null,
      "outputs": []
    },
    {
      "cell_type": "code",
      "metadata": {
        "id": "SbSOrlGSgqgl",
        "colab_type": "code",
        "colab": {}
      },
      "source": [
        "vel_vento = pd.concat([amostra_hora,vel_vento],axis=1)"
      ],
      "execution_count": null,
      "outputs": []
    },
    {
      "cell_type": "code",
      "metadata": {
        "id": "v67kkuSBgyVy",
        "colab_type": "code",
        "colab": {
          "base_uri": "https://localhost:8080/",
          "height": 419
        },
        "outputId": "d416ba62-3880-4cb7-978a-dea2db631ef8"
      },
      "source": [
        "vel_vento.drop(['temperatura'],axis=1)"
      ],
      "execution_count": null,
      "outputs": [
        {
          "output_type": "execute_result",
          "data": {
            "text/html": [
              "<div>\n",
              "<style scoped>\n",
              "    .dataframe tbody tr th:only-of-type {\n",
              "        vertical-align: middle;\n",
              "    }\n",
              "\n",
              "    .dataframe tbody tr th {\n",
              "        vertical-align: top;\n",
              "    }\n",
              "\n",
              "    .dataframe thead th {\n",
              "        text-align: right;\n",
              "    }\n",
              "</style>\n",
              "<table border=\"1\" class=\"dataframe\">\n",
              "  <thead>\n",
              "    <tr style=\"text-align: right;\">\n",
              "      <th></th>\n",
              "      <th>pressao</th>\n",
              "      <th>umidade</th>\n",
              "      <th>vel_vento</th>\n",
              "      <th>dir_vento</th>\n",
              "      <th>Data_Hora</th>\n",
              "      <th>Vel Vento</th>\n",
              "    </tr>\n",
              "  </thead>\n",
              "  <tbody>\n",
              "    <tr>\n",
              "      <th>0</th>\n",
              "      <td>1013</td>\n",
              "      <td>77</td>\n",
              "      <td>0</td>\n",
              "      <td>103</td>\n",
              "      <td>09/07/2020 13:00</td>\n",
              "      <td>12</td>\n",
              "    </tr>\n",
              "    <tr>\n",
              "      <th>1</th>\n",
              "      <td>1013</td>\n",
              "      <td>78</td>\n",
              "      <td>0</td>\n",
              "      <td>98</td>\n",
              "      <td>09/07/2020 14:00</td>\n",
              "      <td>13</td>\n",
              "    </tr>\n",
              "    <tr>\n",
              "      <th>2</th>\n",
              "      <td>1013</td>\n",
              "      <td>80</td>\n",
              "      <td>0</td>\n",
              "      <td>104</td>\n",
              "      <td>09/07/2020 15:00</td>\n",
              "      <td>9</td>\n",
              "    </tr>\n",
              "    <tr>\n",
              "      <th>3</th>\n",
              "      <td>1013</td>\n",
              "      <td>80</td>\n",
              "      <td>0</td>\n",
              "      <td>99</td>\n",
              "      <td>09/07/2020 16:00</td>\n",
              "      <td>7</td>\n",
              "    </tr>\n",
              "    <tr>\n",
              "      <th>4</th>\n",
              "      <td>1013</td>\n",
              "      <td>79</td>\n",
              "      <td>0</td>\n",
              "      <td>109</td>\n",
              "      <td>09/07/2020 17:00</td>\n",
              "      <td>9</td>\n",
              "    </tr>\n",
              "    <tr>\n",
              "      <th>...</th>\n",
              "      <td>...</td>\n",
              "      <td>...</td>\n",
              "      <td>...</td>\n",
              "      <td>...</td>\n",
              "      <td>...</td>\n",
              "      <td>...</td>\n",
              "    </tr>\n",
              "    <tr>\n",
              "      <th>85</th>\n",
              "      <td>1012</td>\n",
              "      <td>74</td>\n",
              "      <td>0</td>\n",
              "      <td>114</td>\n",
              "      <td>13/07/2020 02:00</td>\n",
              "      <td>8</td>\n",
              "    </tr>\n",
              "    <tr>\n",
              "      <th>86</th>\n",
              "      <td>1012</td>\n",
              "      <td>77</td>\n",
              "      <td>0</td>\n",
              "      <td>141</td>\n",
              "      <td>13/07/2020 03:00</td>\n",
              "      <td>7</td>\n",
              "    </tr>\n",
              "    <tr>\n",
              "      <th>87</th>\n",
              "      <td>1012</td>\n",
              "      <td>79</td>\n",
              "      <td>0</td>\n",
              "      <td>146</td>\n",
              "      <td>13/07/2020 04:00</td>\n",
              "      <td>7</td>\n",
              "    </tr>\n",
              "    <tr>\n",
              "      <th>88</th>\n",
              "      <td>1013</td>\n",
              "      <td>77</td>\n",
              "      <td>0</td>\n",
              "      <td>146</td>\n",
              "      <td>13/07/2020 05:00</td>\n",
              "      <td>11</td>\n",
              "    </tr>\n",
              "    <tr>\n",
              "      <th>89</th>\n",
              "      <td>1013</td>\n",
              "      <td>74</td>\n",
              "      <td>0</td>\n",
              "      <td>124</td>\n",
              "      <td>13/07/2020 06:00</td>\n",
              "      <td>1</td>\n",
              "    </tr>\n",
              "  </tbody>\n",
              "</table>\n",
              "<p>90 rows × 6 columns</p>\n",
              "</div>"
            ],
            "text/plain": [
              "    pressao  umidade  vel_vento  dir_vento         Data_Hora  Vel Vento\n",
              "0      1013       77          0        103  09/07/2020 13:00         12\n",
              "1      1013       78          0         98  09/07/2020 14:00         13\n",
              "2      1013       80          0        104  09/07/2020 15:00          9\n",
              "3      1013       80          0         99  09/07/2020 16:00          7\n",
              "4      1013       79          0        109  09/07/2020 17:00          9\n",
              "..      ...      ...        ...        ...               ...        ...\n",
              "85     1012       74          0        114  13/07/2020 02:00          8\n",
              "86     1012       77          0        141  13/07/2020 03:00          7\n",
              "87     1012       79          0        146  13/07/2020 04:00          7\n",
              "88     1013       77          0        146  13/07/2020 05:00         11\n",
              "89     1013       74          0        124  13/07/2020 06:00          1\n",
              "\n",
              "[90 rows x 6 columns]"
            ]
          },
          "metadata": {
            "tags": []
          },
          "execution_count": 78
        }
      ]
    },
    {
      "cell_type": "code",
      "metadata": {
        "id": "vk1i_OvgjGAL",
        "colab_type": "code",
        "colab": {}
      },
      "source": [
        "vel_vento.drop(['pressao','umidade','dir_vento','temperatura'],axis=1,inplace=True)"
      ],
      "execution_count": null,
      "outputs": []
    },
    {
      "cell_type": "code",
      "metadata": {
        "id": "7vzUsx2_jWgN",
        "colab_type": "code",
        "colab": {
          "base_uri": "https://localhost:8080/",
          "height": 204
        },
        "outputId": "2dc4309d-2d73-4770-fd31-3c8274b68d1c"
      },
      "source": [
        "vel_vento.head()"
      ],
      "execution_count": null,
      "outputs": [
        {
          "output_type": "execute_result",
          "data": {
            "text/html": [
              "<div>\n",
              "<style scoped>\n",
              "    .dataframe tbody tr th:only-of-type {\n",
              "        vertical-align: middle;\n",
              "    }\n",
              "\n",
              "    .dataframe tbody tr th {\n",
              "        vertical-align: top;\n",
              "    }\n",
              "\n",
              "    .dataframe thead th {\n",
              "        text-align: right;\n",
              "    }\n",
              "</style>\n",
              "<table border=\"1\" class=\"dataframe\">\n",
              "  <thead>\n",
              "    <tr style=\"text-align: right;\">\n",
              "      <th></th>\n",
              "      <th>vel_vento</th>\n",
              "      <th>Data_Hora</th>\n",
              "      <th>Vel Vento</th>\n",
              "    </tr>\n",
              "  </thead>\n",
              "  <tbody>\n",
              "    <tr>\n",
              "      <th>0</th>\n",
              "      <td>0</td>\n",
              "      <td>09/07/2020 13:00</td>\n",
              "      <td>12</td>\n",
              "    </tr>\n",
              "    <tr>\n",
              "      <th>1</th>\n",
              "      <td>0</td>\n",
              "      <td>09/07/2020 14:00</td>\n",
              "      <td>13</td>\n",
              "    </tr>\n",
              "    <tr>\n",
              "      <th>2</th>\n",
              "      <td>0</td>\n",
              "      <td>09/07/2020 15:00</td>\n",
              "      <td>9</td>\n",
              "    </tr>\n",
              "    <tr>\n",
              "      <th>3</th>\n",
              "      <td>0</td>\n",
              "      <td>09/07/2020 16:00</td>\n",
              "      <td>7</td>\n",
              "    </tr>\n",
              "    <tr>\n",
              "      <th>4</th>\n",
              "      <td>0</td>\n",
              "      <td>09/07/2020 17:00</td>\n",
              "      <td>9</td>\n",
              "    </tr>\n",
              "  </tbody>\n",
              "</table>\n",
              "</div>"
            ],
            "text/plain": [
              "   vel_vento         Data_Hora  Vel Vento\n",
              "0          0  09/07/2020 13:00         12\n",
              "1          0  09/07/2020 14:00         13\n",
              "2          0  09/07/2020 15:00          9\n",
              "3          0  09/07/2020 16:00          7\n",
              "4          0  09/07/2020 17:00          9"
            ]
          },
          "metadata": {
            "tags": []
          },
          "execution_count": 86
        }
      ]
    },
    {
      "cell_type": "code",
      "metadata": {
        "id": "ZI9FYzpUjtXS",
        "colab_type": "code",
        "colab": {}
      },
      "source": [
        "vel_vento.rename({'vel_vento':'p_vento','Vel Vento':'r_vento'},inplace=True)"
      ],
      "execution_count": null,
      "outputs": []
    },
    {
      "cell_type": "markdown",
      "metadata": {
        "id": "oFmjqDitjf-p",
        "colab_type": "text"
      },
      "source": [
        "## Gráfico de Distribuição"
      ]
    },
    {
      "cell_type": "code",
      "metadata": {
        "id": "lRP2Myk7jqTC",
        "colab_type": "code",
        "colab": {
          "base_uri": "https://localhost:8080/",
          "height": 299
        },
        "outputId": "8cfb3db3-cd7c-41c3-b675-f5500751efad"
      },
      "source": [
        "f = plt.figure(figsize=(16, 4))\n",
        "gs = f.add_gridspec(1, 2)\n",
        "\n",
        "\n",
        "ax = f.add_subplot(gs[0, 0])\n",
        "ax = sns.distplot(vel_vento['vel_vento'])\n",
        "ax.set_title('Protótipo',fontsize = 16)\n",
        "ax.axis(xmin=0,xmax=40)\n",
        "\n",
        "ax1 = f.add_subplot(gs[0, 1])\n",
        "ax1 = sns.distplot(vel_vento['Vel Vento'])\n",
        "ax1.set_title(' Plataforma REDEMET',fontsize = 16)\n",
        "ax1.axis(xmin=0,xmax=40)\n",
        "\n",
        "f.savefig('dist_velvento.png')"
      ],
      "execution_count": null,
      "outputs": [
        {
          "output_type": "display_data",
          "data": {
            "image/png": "[encoded data removed]",
            "text/plain": [
              "<Figure size 1152x288 with 2 Axes>"
            ]
          },
          "metadata": {
            "tags": [],
            "needs_background": "light"
          }
        }
      ]
    },
    {
      "cell_type": "markdown",
      "metadata": {
        "id": "A6-szC3hmW0h",
        "colab_type": "text"
      },
      "source": [
        "## Box Plot Velocidade do Vento"
      ]
    },
    {
      "cell_type": "code",
      "metadata": {
        "id": "XEBS7BEOmaA0",
        "colab_type": "code",
        "colab": {
          "base_uri": "https://localhost:8080/",
          "height": 374
        },
        "outputId": "5cfec99b-8c01-4c46-9ff1-453492c21477"
      },
      "source": [
        "ax = sns.boxplot(data = vel_vento[['Vel Vento','vel_vento']], orient = 'h',width=0.5)\n",
        "ax.figure.set_size_inches(12,6)\n",
        "ax.axis(xmin = 0)\n",
        "ax.get_figure().savefig('box_plot_velvento.png')"
      ],
      "execution_count": null,
      "outputs": [
        {
          "output_type": "display_data",
          "data": {
            "image/png": "[encoded data removed]",
            "text/plain": [
              "<Figure size 864x432 with 1 Axes>"
            ]
          },
          "metadata": {
            "tags": [],
            "needs_background": "light"
          }
        }
      ]
    },
    {
      "cell_type": "markdown",
      "metadata": {
        "id": "eI6B_X0jocdc",
        "colab_type": "text"
      },
      "source": [
        "## Estatísticas descritivas"
      ]
    },
    {
      "cell_type": "code",
      "metadata": {
        "id": "dZrhjmB2oe1L",
        "colab_type": "code",
        "colab": {
          "base_uri": "https://localhost:8080/",
          "height": 297
        },
        "outputId": "f984464e-77ca-4902-f25f-6756b60b5579"
      },
      "source": [
        "vel_vento.describe()"
      ],
      "execution_count": null,
      "outputs": [
        {
          "output_type": "execute_result",
          "data": {
            "text/html": [
              "<div>\n",
              "<style scoped>\n",
              "    .dataframe tbody tr th:only-of-type {\n",
              "        vertical-align: middle;\n",
              "    }\n",
              "\n",
              "    .dataframe tbody tr th {\n",
              "        vertical-align: top;\n",
              "    }\n",
              "\n",
              "    .dataframe thead th {\n",
              "        text-align: right;\n",
              "    }\n",
              "</style>\n",
              "<table border=\"1\" class=\"dataframe\">\n",
              "  <thead>\n",
              "    <tr style=\"text-align: right;\">\n",
              "      <th></th>\n",
              "      <th>vel_vento</th>\n",
              "      <th>Vel Vento</th>\n",
              "    </tr>\n",
              "  </thead>\n",
              "  <tbody>\n",
              "    <tr>\n",
              "      <th>count</th>\n",
              "      <td>90.000000</td>\n",
              "      <td>90.000000</td>\n",
              "    </tr>\n",
              "    <tr>\n",
              "      <th>mean</th>\n",
              "      <td>0.011111</td>\n",
              "      <td>8.944444</td>\n",
              "    </tr>\n",
              "    <tr>\n",
              "      <th>std</th>\n",
              "      <td>0.105409</td>\n",
              "      <td>3.558061</td>\n",
              "    </tr>\n",
              "    <tr>\n",
              "      <th>min</th>\n",
              "      <td>0.000000</td>\n",
              "      <td>1.000000</td>\n",
              "    </tr>\n",
              "    <tr>\n",
              "      <th>25%</th>\n",
              "      <td>0.000000</td>\n",
              "      <td>7.000000</td>\n",
              "    </tr>\n",
              "    <tr>\n",
              "      <th>50%</th>\n",
              "      <td>0.000000</td>\n",
              "      <td>8.000000</td>\n",
              "    </tr>\n",
              "    <tr>\n",
              "      <th>75%</th>\n",
              "      <td>0.000000</td>\n",
              "      <td>11.750000</td>\n",
              "    </tr>\n",
              "    <tr>\n",
              "      <th>max</th>\n",
              "      <td>1.000000</td>\n",
              "      <td>18.000000</td>\n",
              "    </tr>\n",
              "  </tbody>\n",
              "</table>\n",
              "</div>"
            ],
            "text/plain": [
              "       vel_vento  Vel Vento\n",
              "count  90.000000  90.000000\n",
              "mean    0.011111   8.944444\n",
              "std     0.105409   3.558061\n",
              "min     0.000000   1.000000\n",
              "25%     0.000000   7.000000\n",
              "50%     0.000000   8.000000\n",
              "75%     0.000000  11.750000\n",
              "max     1.000000  18.000000"
            ]
          },
          "metadata": {
            "tags": []
          },
          "execution_count": 92
        }
      ]
    },
    {
      "cell_type": "markdown",
      "metadata": {
        "id": "VWVrSLastvxY",
        "colab_type": "text"
      },
      "source": [
        "## Teste de Normalidade"
      ]
    },
    {
      "cell_type": "code",
      "metadata": {
        "id": "aY5Fe-rFtxrV",
        "colab_type": "code",
        "colab": {
          "base_uri": "https://localhost:8080/",
          "height": 68
        },
        "outputId": "03589877-7282-466c-82e4-88a7d3fc07a3"
      },
      "source": [
        "t,p_valor = normaltest(vel_vento['Vel Vento'])\n",
        "print(T)\n",
        "print(p_valor)\n",
        "\n",
        "if(p_valor <= significancia):\n",
        "    print('Não é Normal')\n",
        "else:\n",
        "    print('É Normal')"
      ],
      "execution_count": null,
      "outputs": [
        {
          "output_type": "stream",
          "text": [
            "280.5\n",
            "0.23345966528153922\n",
            "É Normal\n"
          ],
          "name": "stdout"
        }
      ]
    },
    {
      "cell_type": "markdown",
      "metadata": {
        "id": "M7dxJPo8ui0U",
        "colab_type": "text"
      },
      "source": [
        "## Teste de Wilcoxon"
      ]
    },
    {
      "cell_type": "code",
      "metadata": {
        "id": "RZOQALmCuoVf",
        "colab_type": "code",
        "colab": {
          "base_uri": "https://localhost:8080/",
          "height": 68
        },
        "outputId": "22112858-08b0-4490-b6c3-422cb8d7dd84"
      },
      "source": [
        "T,p_valor = wilcoxon(dir_vento['DV_Prototipo'],dir_vento['DV_REDEMET'])\n",
        "print(T)\n",
        "print(p_valor)\n",
        "\n",
        "if(p_valor <= significancia):\n",
        "  print('Rejeita H0')\n",
        "else:\n",
        "  print('Ajeita H0')"
      ],
      "execution_count": null,
      "outputs": [
        {
          "output_type": "stream",
          "text": [
            "1222.0\n",
            "0.0014044970753314561\n",
            "Rejeita H0\n"
          ],
          "name": "stdout"
        }
      ]
    }
  ]
}